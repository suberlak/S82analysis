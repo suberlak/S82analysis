{
 "cells": [
  {
   "cell_type": "code",
   "execution_count": 1,
   "metadata": {
    "collapsed": true
   },
   "outputs": [],
   "source": [
    "# make all necessary imports....\n",
    "import pandas as pd\n",
    "import numpy as np \n",
    "import matplotlib.pyplot as plt "
   ]
  },
  {
   "cell_type": "code",
   "execution_count": 10,
   "metadata": {
    "collapsed": true
   },
   "outputs": [],
   "source": [
    "dir_info_files = '/astro/store/scratch/tmp/suberlak/S13Agg/repo_fls/'\n",
    "dir_save_merged= '/astro/users/suberlak/S13Agg_analysis/data_products/'\n",
    "\n",
    "# the ugriz photometry is already extinction-corrected  \n",
    "# we read in only those objects whose parents are brighter than 17 mag \n",
    "data_source = 'NCSA'\n",
    "name_keep = 'test_'+data_source+'_all_patches_ugriz_var.csv'\n",
    "name_detection = 'DeepSource'+data_source+'_i_lt235.csv.gz'\n",
    "ncsa_photometry_data = pd.read_csv(dir_save_merged+name_keep)\n",
    "ncsa_detection_data = pd.read_csv(dir_info_files+name_detection)\n",
    "\n",
    "# merge in the extendedness, ra, dec, extendedness   (there is psfFlux and ModelFlux,  but not modelMag.  To translate \n",
    "# that to modelMag would need to convert the flux to magnitudes - as long as I'm, using the same threshold for extendedness \n",
    "# as Yusra, it is not needed)\n",
    "\n",
    "merged_ncsa = pd.merge(photometry_data, ncsa_detection_data[['deepSourceId', 'ra', 'decl', 'extendedness']], \n",
    "                       how='left', left_on='objectId', right_on='deepSourceId')\n",
    "\n",
    "\n",
    "data_source = 'IN2P3'\n",
    "name_keep = 'test_'+data_source+'_all_patches_ugriz_var.csv'\n",
    "name_detection = 'DeepSource'+data_source+'_i_lt235.csv.gz'\n",
    "intpt_photometry_data = pd.read_csv(dir_save_merged+name_keep)\n",
    "intpt_detection_data = pd.read_csv(dir_info_files+name_detection)\n",
    "\n",
    "# merge in the extendedness, ra, dec, extendedness  \n",
    "merged_intpt = pd.merge(intpt_photometry_data, intpt_detection_data[['deepSourceId', 'ra', 'decl', 'extendedness']], \n",
    "                       how='left', left_on='objectId', right_on='deepSourceId')\n",
    "\n"
   ]
  },
  {
   "cell_type": "code",
   "execution_count": null,
   "metadata": {
    "collapsed": true
   },
   "outputs": [],
   "source": [
    "# make sure that both have the same columns \n",
    "assert merged_ncsa.column == merged_intpt.columns \n",
    "\n",
    "# combine data from NCSA and IN2P3 \n",
    "merged_all = merged_ncsa.append(merged_intpt)\n"
   ]
  },
  {
   "cell_type": "code",
   "execution_count": null,
   "metadata": {
    "collapsed": true
   },
   "outputs": [],
   "source": []
  },
  {
   "cell_type": "code",
   "execution_count": 16,
   "metadata": {
    "collapsed": false
   },
   "outputs": [
    {
     "data": {
      "text/plain": [
       "359.8798649100425"
      ]
     },
     "execution_count": 16,
     "metadata": {},
     "output_type": "execute_result"
    }
   ],
   "source": [
    "max(merged_data['ra'].values[np.isfinite(merged_data['ra'].values)])"
   ]
  },
  {
   "cell_type": "code",
   "execution_count": 7,
   "metadata": {
    "collapsed": true
   },
   "outputs": [],
   "source": []
  },
  {
   "cell_type": "code",
   "execution_count": 13,
   "metadata": {
    "collapsed": false
   },
   "outputs": [
    {
     "data": {
      "text/plain": [
       "10947"
      ]
     },
     "execution_count": 13,
     "metadata": {},
     "output_type": "execute_result"
    }
   ],
   "source": [
    "np.sum(np.in1d(photometry_data['objectId'].values, detection_to_merge['deepSourceId'].values))"
   ]
  },
  {
   "cell_type": "code",
   "execution_count": null,
   "metadata": {
    "collapsed": true
   },
   "outputs": [],
   "source": []
  }
 ],
 "metadata": {
  "kernelspec": {
   "display_name": "Python 2",
   "language": "python",
   "name": "python2"
  },
  "language_info": {
   "codemirror_mode": {
    "name": "ipython",
    "version": 2
   },
   "file_extension": ".py",
   "mimetype": "text/x-python",
   "name": "python",
   "nbconvert_exporter": "python",
   "pygments_lexer": "ipython2",
   "version": "2.7.12"
  }
 },
 "nbformat": 4,
 "nbformat_minor": 0
}
