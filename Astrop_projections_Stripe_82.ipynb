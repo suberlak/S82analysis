{
 "cells": [
  {
   "cell_type": "code",
   "execution_count": 11,
   "metadata": {
    "collapsed": false
   },
   "outputs": [
    {
     "data": {
      "image/png": "[encoded data removed]",
      "text/plain": [
       "<matplotlib.figure.Figure at 0x7f8e4d0c80d0>"
      ]
     },
     "metadata": {},
     "output_type": "display_data"
    }
   ],
   "source": [
    "# http://balbuceosastropy.blogspot.com/2013/09/the-mollweide-projection.html\n",
    "\n",
    "# http://balbuceosastropy.blogspot.com.es/2013/09/working-with-astronomical-coordinate.html \n",
    "\n",
    "# https://gavinr.com/2016/03/29/how-to-map-the-infrared-universe-with-astropy-and-arcgis/\n",
    "\n",
    "# http://www.astropy.org/astropy-tutorials/plot-catalog.html\n",
    "import matplotlib.pyplot as plt \n",
    "import numpy as np \n",
    "\n",
    "# Set up matplotlib and use a nicer set of plot parameters\n",
    "%config InlineBackend.rc = {}\n",
    "#import matplotlib\n",
    "#matplotlib.rc_file(\"../../templates/matplotlibrc\")\n",
    "import matplotlib.pyplot as plt\n",
    "%matplotlib inline\n",
    "\n",
    "import astropy.coordinates as coord\n",
    "#ra = coord.Angle(data['RA'].filled(np.nan)*u.degree)\n",
    "#ra = ra.wrap_at(180*u.degree)\n",
    "#dec = coord.Angle(data['Dec'].filled(np.nan)*u.degree)\n",
    "\n",
    "fig = plt.figure(figsize=(8,6))\n",
    "ax = fig.add_subplot(111, projection=\"rectilinear\")\n",
    "# Valid values for projection are: [‘aitoff’, ‘hammer’, ‘lambert’, ‘mollweide’, ‘polar’, ‘rectilinear’] \n",
    "#ax.scatter(ra.radian, dec.radian)"
   ]
  },
  {
   "cell_type": "code",
   "execution_count": null,
   "metadata": {
    "collapsed": true
   },
   "outputs": [],
   "source": []
  }
 ],
 "metadata": {
  "kernelspec": {
   "display_name": "Python 2",
   "language": "python",
   "name": "python2"
  },
  "language_info": {
   "codemirror_mode": {
    "name": "ipython",
    "version": 2
   },
   "file_extension": ".py",
   "mimetype": "text/x-python",
   "name": "python",
   "nbconvert_exporter": "python",
   "pygments_lexer": "ipython2",
   "version": "2.7.11"
  }
 },
 "nbformat": 4,
 "nbformat_minor": 0
}
