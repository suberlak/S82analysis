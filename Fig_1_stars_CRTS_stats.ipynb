{
 "cells": [
  {
   "cell_type": "code",
   "execution_count": 1,
   "metadata": {
    "collapsed": true
   },
   "outputs": [],
   "source": [
    "import numpy as np\n",
    "import matplotlib.pyplot as plt \n",
    "from os import listdir"
   ]
  },
  {
   "cell_type": "code",
   "execution_count": 23,
   "metadata": {
    "collapsed": true
   },
   "outputs": [],
   "source": [
    "def update_progress(progress):\n",
    "    ''' A simple function updating the time progress. \n",
    "    Inspired by \n",
    "    http://stackoverflow.com/questions/3173320/text-progress-bar-in-the-console \n",
    "    Parameters\n",
    "    -----------\n",
    "    progress : a value (float or int) between 0 and 100 indicating \n",
    "               percentage progress \n",
    "    Returns\n",
    "    ----------\n",
    "    None\n",
    "    '''\n",
    "    print '\\r[%-10s] %0.2f%%' % ('#' * int(progress/10), progress),"
   ]
  },
  {
   "cell_type": "markdown",
   "metadata": {},
   "source": [
    "## Initial sample of CRTS stars from Branimir ... "
   ]
  },
  {
   "cell_type": "markdown",
   "metadata": {},
   "source": [
    "First, find out the total number of objects to start with .. stars_CRTS/0/"
   ]
  },
  {
   "cell_type": "code",
   "execution_count": 3,
   "metadata": {
    "collapsed": false
   },
   "outputs": [
    {
     "data": {
      "text/plain": [
       "u'/astro/users/suberlak/Desktop/SDSS'"
      ]
     },
     "execution_count": 3,
     "metadata": {},
     "output_type": "execute_result"
    }
   ],
   "source": [
    "pwd"
   ]
  },
  {
   "cell_type": "code",
   "execution_count": 206,
   "metadata": {
    "collapsed": false
   },
   "outputs": [],
   "source": [
    "dir1 = 'stars_CRTS/0/'\n",
    "\n",
    "# make sure that we only take   stellar lightcurves,  which always end with .dat \n",
    "# and ignore two other files which may be there  : \n",
    "# radec.00   and file.list\n",
    "\n",
    "stars_list  = []\n",
    "for f in listdir(dir1) : \n",
    "    if f.endswith('.dat'):\n",
    "        stars_list.append(f)\n",
    "        \n",
    "        \n"
   ]
  },
  {
   "cell_type": "code",
   "execution_count": 207,
   "metadata": {
    "collapsed": false
   },
   "outputs": [
    {
     "name": "stdout",
     "output_type": "stream",
     "text": [
      "We have 52131 stars to start with \n"
     ]
    }
   ],
   "source": [
    "print('We have %d stars to start with ' % len(stars_list))"
   ]
  },
  {
   "cell_type": "markdown",
   "metadata": {},
   "source": [
    "## Remove empty files and those with less than 10 points "
   ]
  },
  {
   "cell_type": "code",
   "execution_count": 209,
   "metadata": {
    "collapsed": false
   },
   "outputs": [
    {
     "name": "stdout",
     "output_type": "stream",
     "text": [
      "We have 1410 empty files\n"
     ]
    }
   ],
   "source": [
    "c = 0 \n",
    "empty_files = np.zeros(len(stars_list), dtype='bool')\n",
    "for i in range(len(stars_list)):\n",
    "    obj = stars_list[i]\n",
    "    address = dir1 + obj\n",
    "    f = open(address, 'r')\n",
    "    if f.readline() == '' :\n",
    "        c += 1\n",
    "        empty_files[i] = True \n",
    "        \n",
    "print('We have %d empty files' % c)   "
   ]
  },
  {
   "cell_type": "code",
   "execution_count": 210,
   "metadata": {
    "collapsed": false
   },
   "outputs": [
    {
     "data": {
      "text/plain": [
       "50721"
      ]
     },
     "execution_count": 210,
     "metadata": {},
     "output_type": "execute_result"
    }
   ],
   "source": [
    "stars_nonempty = np.array(stars_list)[~empty_files]\n",
    "len(stars_nonempty)"
   ]
  },
  {
   "cell_type": "markdown",
   "metadata": {},
   "source": [
    "Remove those files that have less than 10 points : "
   ]
  },
  {
   "cell_type": "code",
   "execution_count": 211,
   "metadata": {
    "collapsed": false
   },
   "outputs": [
    {
     "name": "stdout",
     "output_type": "stream",
     "text": [
      "We have 1336  files with less than 10 pts \n"
     ]
    }
   ],
   "source": [
    "c = 0 \n",
    "short_files  = np.zeros(len(stars_nonempty), dtype='bool')\n",
    "for i in range(len(stars_nonempty)):\n",
    "    obj = stars_nonempty[i]\n",
    "    num_lines = sum(1 for line in open(dir1+obj))\n",
    "    if num_lines < 10 :\n",
    "        c += 1\n",
    "        short_files[i] = True\n",
    "        \n",
    "print('We have %d  files with less than 10 pts ' % c) "
   ]
  },
  {
   "cell_type": "code",
   "execution_count": 212,
   "metadata": {
    "collapsed": false
   },
   "outputs": [
    {
     "data": {
      "text/plain": [
       "49385"
      ]
     },
     "execution_count": 212,
     "metadata": {},
     "output_type": "execute_result"
    }
   ],
   "source": [
    "stars_10_pts_plus = stars_nonempty[~short_files]\n",
    "len(stars_10_pts_plus)"
   ]
  },
  {
   "cell_type": "markdown",
   "metadata": {},
   "source": [
    "## Day-averaged lightcurves : remove those with less than 10 days "
   ]
  },
  {
   "cell_type": "markdown",
   "metadata": {},
   "source": [
    " ### : needs be RUN ONLY ONCE  to make them!"
   ]
  },
  {
   "cell_type": "markdown",
   "metadata": {},
   "source": [
    "Make day-averaged lightcurves, save only if more than 10 observing days (points in the day-averaged light curve). \n",
    "Save MJD, avg_mag, error, N_obs that day."
   ]
  },
  {
   "cell_type": "code",
   "execution_count": 35,
   "metadata": {
    "collapsed": false
   },
   "outputs": [
    {
     "name": "stdout",
     "output_type": "stream",
     "text": [
      "[######### ] 99.00%\n"
     ]
    }
   ],
   "source": [
    "# code based on the stars_crts_preprocessing.py \n",
    "# and QSO_CRTS_day_averaged_stats.py\n",
    "\n",
    "dir_in = 'stars_CRTS/0/'\n",
    "dir_err_w = 'stars_CRTS_LC_err_w/'\n",
    "\n",
    "lc_files  = stars_10_pts_plus\n",
    "\n",
    "\n",
    "k = 0\n",
    "total = float(len(lc_files))\n",
    "\n",
    "for obj in lc_files:\n",
    "    percent = 100*(k / total)\n",
    "    if (k % 10) == 0 : # every tenth loop.. \n",
    "        update_progress(int(percent))\n",
    "    k += 1\n",
    "    \n",
    "    address=dir_in+obj\n",
    "    data=np.loadtxt(address)\n",
    "    \n",
    "    averages=np.zeros(shape=(len(data),3))\n",
    "\n",
    "    mjd = data[:,0]\n",
    "    mags = data[:,1]\n",
    "    errs = data[:,2]\n",
    "   \n",
    "    days = np.unique([int(day) for day in data[:,0]])\n",
    "    \n",
    "    # storage arrays  for each qso (all N's)\n",
    "    mjd_arr = np.zeros_like(days).astype(float)\n",
    "    avg_mags = np.zeros_like(days).astype(float)\n",
    "    avg_err_weights = np.zeros_like(days).astype(float)  \n",
    "    Nobs = np.zeros_like(days).astype(float)\n",
    "\n",
    "    # loop through days calculating mean, etc. \n",
    "    for i in range(len(days)):\n",
    "        day = days[i]\n",
    "        int_mjd = np.require(mjd,int)       # forcing mjd array -> integers\n",
    "        condition = (int_mjd == day)        # finding where int(mjd) = day\n",
    "        N = float(len(mags[condition]))            # number of obs in that night \n",
    "        Nobs[i] = N\n",
    "        avgmag = np.average(mags[condition],weights=errs[condition]) # works for single measurement too ! \n",
    "        \n",
    "        # weights error : only that was used in the end \n",
    "        weights=1.0 / ( errs[condition] * errs[condition]) \n",
    "        avg_mags[i] = avgmag\n",
    "        error_weights = 1.0 / np.sqrt(np.sum(weights))\n",
    "        \n",
    "        # increase error if too small \n",
    "        if error_weights < 0.02 : \n",
    "            error_weights = np.sqrt(error_weights**2.0 + 0.01**2.0)  \n",
    "            \n",
    "        avg_err_weights[i] = error_weights\n",
    "      \n",
    "        mjd_arr[i] = np.mean(mjd[condition])\n",
    "        \n",
    "    # Save the output... \n",
    "    # Once per lightcurve \n",
    "    # ONLY IF THERE IS MORE THAN 10 OBS ! \n",
    "    \n",
    "    if( len(mjd_arr) >  10 ) :\n",
    "        name_out = dir_err_w + 'out_'+obj[:18]+'.txt'\n",
    "        np.savetxt(name_out, np.column_stack((mjd_arr,avg_mags, avg_err_weights, Nobs)),fmt='%11.4f')\n",
    "\n",
    "        \n",
    "    "
   ]
  },
  {
   "cell_type": "markdown",
   "metadata": {},
   "source": [
    "How many stars with LC  longer than 10 days we have  ? "
   ]
  },
  {
   "cell_type": "code",
   "execution_count": 36,
   "metadata": {
    "collapsed": false
   },
   "outputs": [],
   "source": [
    "stars_LC_proc_err_w = listdir(dir_err_w)"
   ]
  },
  {
   "cell_type": "code",
   "execution_count": 37,
   "metadata": {
    "collapsed": false
   },
   "outputs": [
    {
     "data": {
      "text/plain": [
       "48251"
      ]
     },
     "execution_count": 37,
     "metadata": {},
     "output_type": "execute_result"
    }
   ],
   "source": [
    "len(stars_LC_proc_err_w)"
   ]
  },
  {
   "cell_type": "markdown",
   "metadata": {},
   "source": [
    "Calculate the stats of that sample : \n",
    "    \n",
    "    "
   ]
  },
  {
   "cell_type": "code",
   "execution_count": 263,
   "metadata": {
    "collapsed": false
   },
   "outputs": [],
   "source": [
    "def compare_star_LC(i=None, n=None):\n",
    "    '''A short function to plot an original stellar LC from CRTS (before all averaging, etc)\n",
    "    to the day-averaged LC.\n",
    "    \n",
    "    Parameters: \n",
    "    -----------\n",
    "    i = a number of the stellar processed LC in the stars_CRTS_LC_err_w/  dir \n",
    "     or  \n",
    "    n = name of an original stellar LC , eg . '127648.dat' \n",
    "    Returns:\n",
    "    --------\n",
    "    None\n",
    "    '''\n",
    "    \n",
    "    dir_in = 'stars_CRTS/0/'\n",
    "    dir_err_w = 'stars_CRTS_LC_err_w/'\n",
    "    stars_LC_10_days_plus= listdir(dir_err_w)\n",
    "    if n ==None : \n",
    "        star_name_proc = stars_LC_10_days_plus[i]\n",
    "    else :\n",
    "        star_name_proc = 'out_'+ n +'.txt'\n",
    "   \n",
    "    orig_star_name = star_name_proc[4:-4]\n",
    "\n",
    "\n",
    "    data = np.loadtxt(dir_err_w  + star_name_proc)\n",
    "    data_orig = np.loadtxt(dir_in + orig_star_name)\n",
    "    \n",
    "    mjd_arr,avg_mags, avg_err_weights, Nobs = data[:,0], data[:,1], data[:,2], data[:,3]\n",
    "    mjd,mags, errs = data_orig[:,0],data_orig[:,1], data_orig[:,2]\n",
    " \n",
    "\n",
    "    %matplotlib inline\n",
    "\n",
    "    fig, axs = plt.subplots(2,2, figsize=(16,10))\n",
    "    ax = np.ravel(axs)\n",
    "    ax[0].set_title('Original LC for '+orig_star_name)\n",
    "    ax[0].scatter(mjd,mags)\n",
    "    ax[0].errorbar(mjd, mags, errs, linestyle='None')\n",
    "    print 'Vertical dashed lines indicate individual obs days '\n",
    "\n",
    "    for day in days : \n",
    "\n",
    "        ax[0].axvline(day, ymin=0, ymax=0.2, lw =1, ls = '--', color='red')\n",
    "\n",
    "\n",
    "    ax[1].set_title('Day-averaged LC for '+ orig_star_name)\n",
    "    ax[1].scatter(mjd_arr,avg_mags, color='green')\n",
    "    ax[1].errorbar(mjd_arr, avg_mags, avg_err_weights, linestyle='None', color='green')\n",
    "    \n",
    "    ax[2].set_title('Original and avg  LC for '+orig_star_name)\n",
    "    ax[2].scatter(mjd,mags, alpha=0.5)\n",
    "    ax[2].errorbar(mjd, mags, errs, linestyle='None',alpha=0.5)\n",
    "    ax[2].scatter(mjd_arr,avg_mags,alpha=0.5, color='red')\n",
    "    ax[2].errorbar(mjd_arr, avg_mags, avg_err_weights, linestyle='None', color='red')\n",
    "    ax[3].axis('off')\n",
    "    plt.show()"
   ]
  },
  {
   "cell_type": "code",
   "execution_count": 264,
   "metadata": {
    "collapsed": false
   },
   "outputs": [
    {
     "name": "stdout",
     "output_type": "stream",
     "text": [
      "Vertical dashed lines indicate individual obs days \n"
     ]
    },
    {
     "data": {
      "image/png": "[encoded data removed]",
      "text/plain": [
       "<matplotlib.figure.Figure at 0x7f0587881110>"
      ]
     },
     "metadata": {},
     "output_type": "display_data"
    }
   ],
   "source": [
    "compare_star_LC(2)"
   ]
  },
  {
   "cell_type": "markdown",
   "metadata": {},
   "source": [
    "Looks like the day-averaging is working fine.  Now , calculate the statistics for the day-averaged stars (takes about 3 mins on the workstation)"
   ]
  },
  {
   "cell_type": "code",
   "execution_count": 217,
   "metadata": {
    "collapsed": false
   },
   "outputs": [
    {
     "name": "stdout",
     "output_type": "stream",
     "text": [
      "[######### ] 97.00%\n"
     ]
    }
   ],
   "source": [
    "from collections import OrderedDict\n",
    "dir_in = 'stars_CRTS/0/'\n",
    "dir_err_w = 'stars_CRTS_LC_err_w/'\n",
    "\n",
    "stars_LC_10_days_plus = []\n",
    "for file in listdir(dir_err_w) : \n",
    "    if file.endswith('.txt'):\n",
    "        stars_LC_10_days_plus.append(file)\n",
    "\n",
    "remove_err_outliers = np.zeros_like(stars_LC_10_days_plus, dtype=bool)\n",
    "stats_proc_err_w = OrderedDict()\n",
    "keys = ['avg_mag', 'med_mag', 'avg_err', 'med_err', 'name', 'avg_err_90th_percentile']\n",
    "for key in keys: \n",
    "    stats_proc_err_w[key] = [] \n",
    "\n",
    "\n",
    "k = 0\n",
    "total = float(len(lc_files))\n",
    "\n",
    "for i in range(len(stars_LC_10_days_plus)):\n",
    "    percent = 100*(k / total)\n",
    "    if (k % 10) == 0 : # every tenth loop.. \n",
    "        update_progress(int(percent))\n",
    "    k += 1\n",
    "    \n",
    "    star_name_proc = stars_LC_10_days_plus[i]\n",
    "    orig_star_name = star_name_proc[4:-4]\n",
    "\n",
    "\n",
    "    data = np.loadtxt(dir_err_w  + star_name_proc)\n",
    "    #data_orig = np.loadtxt(dir_in + orig_star_name)\n",
    "\n",
    "    mjd_arr,avg_mags, avg_err_weights, Nobs = data[:,0], data[:,1], data[:,2], data[:,3]\n",
    "    #mjd,mags, errs = data_orig[:,0],data_orig[:,1], data_orig[:,2]\n",
    "\n",
    "    # Calculate stats for day-averaged stars \n",
    "    stats_proc_err_w['avg_mag'].append(np.mean(avg_mags))\n",
    "    stats_proc_err_w['med_mag'].append(np.median(avg_mags))\n",
    "    stats_proc_err_w['avg_err'].append(np.mean(avg_err_weights))\n",
    "    stats_proc_err_w['med_err'].append(np.median(avg_err_weights))\n",
    "    stats_proc_err_w['name'].append(orig_star_name)\n",
    "    stats_proc_err_w['avg_err_90th_percentile'].append(np.percentile(avg_err_weights , 90))\n",
    "    \n",
    "    if (np.median(avg_err_weights) < 0.1 and np.percentile(avg_err_weights , 90)) < 0.2 : \n",
    "        remove_err_outliers[i] = True "
   ]
  },
  {
   "cell_type": "markdown",
   "metadata": {},
   "source": [
    "Now, the list of those stars that pass through the error-outliers-removal  filter ought be the same as the list in  stars_CRTS_analysis/good_err_LC.txt , as well as filelist in stars_CRTS_proc_err_w_good/  . If it isn't, I can't claim I understand every single step... "
   ]
  },
  {
   "cell_type": "code",
   "execution_count": 265,
   "metadata": {
    "collapsed": false
   },
   "outputs": [
    {
     "data": {
      "text/plain": [
       "48250"
      ]
     },
     "execution_count": 265,
     "metadata": {},
     "output_type": "execute_result"
    }
   ],
   "source": [
    "len(stars_LC_10_days_plus)"
   ]
  },
  {
   "cell_type": "code",
   "execution_count": 218,
   "metadata": {
    "collapsed": false
   },
   "outputs": [
    {
     "data": {
      "text/plain": [
       "47797"
      ]
     },
     "execution_count": 218,
     "metadata": {},
     "output_type": "execute_result"
    }
   ],
   "source": [
    "acc_list = np.array(stars_LC_10_days_plus)[remove_err_outliers]\n",
    "len(acc_list)"
   ]
  },
  {
   "cell_type": "code",
   "execution_count": 267,
   "metadata": {
    "collapsed": false
   },
   "outputs": [
    {
     "data": {
      "text/plain": [
       "48250"
      ]
     },
     "execution_count": 267,
     "metadata": {},
     "output_type": "execute_result"
    }
   ],
   "source": [
    "dir1_list = listdir('stars_CRTS_LC_err_w/')\n",
    "len(dir1_list)"
   ]
  },
  {
   "cell_type": "markdown",
   "metadata": {},
   "source": []
  },
  {
   "cell_type": "code",
   "execution_count": 268,
   "metadata": {
    "collapsed": false
   },
   "outputs": [
    {
     "data": {
      "text/plain": [
       "48250"
      ]
     },
     "execution_count": 268,
     "metadata": {},
     "output_type": "execute_result"
    }
   ],
   "source": [
    "np.sum(np.in1d(stars_LC_10_days_plus, dir1_list))"
   ]
  },
  {
   "cell_type": "code",
   "execution_count": 219,
   "metadata": {
    "collapsed": false
   },
   "outputs": [
    {
     "data": {
      "text/plain": [
       "47787"
      ]
     },
     "execution_count": 219,
     "metadata": {},
     "output_type": "execute_result"
    }
   ],
   "source": [
    "dir_list = listdir('stars_CRTS_proc_err_w_good/') \n",
    "len(dir_list)"
   ]
  },
  {
   "cell_type": "markdown",
   "metadata": {},
   "source": [
    "Which stars in the  'stars_CRTS_LC_err_w/' dir are not in  the stars_CRTS_proc_err_w_good/' dir ? "
   ]
  },
  {
   "cell_type": "code",
   "execution_count": 273,
   "metadata": {
    "collapsed": false
   },
   "outputs": [],
   "source": [
    "missing_stars = np.array(dir1_list)[~np.in1d(dir1_list, dir_list)]\n",
    "len(np.array(dir1_list)[~np.in1d(dir1_list, dir_list)])\n",
    "np.savetxt('missing_stars_err_w_good_vs_err_w.txt', missing_stars, fmt='%s')"
   ]
  },
  {
   "cell_type": "code",
   "execution_count": 274,
   "metadata": {
    "collapsed": false,
    "scrolled": true
   },
   "outputs": [
    {
     "data": {
      "text/plain": [
       "array(['out_387854.dat.txt', 'out_331195.dat.txt', 'out_43434.dat.txt',\n",
       "       'out_69406.dat.txt', 'out_20276.dat.txt', 'out_346300.dat.txt',\n",
       "       'out_17875.dat.txt', 'out_970353.dat.txt', 'out_986515.dat.txt',\n",
       "       'out_387982.dat.txt', 'out_993696.dat.txt', 'out_328559.dat.txt',\n",
       "       'out_399315.dat.txt', 'out_999717.dat.txt', 'out_11814.dat.txt',\n",
       "       'out_19012.dat.txt', 'out_986373.dat.txt', 'out_995049.dat.txt',\n",
       "       'out_368402.dat.txt', 'out_998560.dat.txt', 'out_987405.dat.txt',\n",
       "       'out_361430.dat.txt', 'out_999083.dat.txt', 'out_979183.dat.txt',\n",
       "       'out_29890.dat.txt', 'out_997353.dat.txt', 'out_982951.dat.txt',\n",
       "       'out_394312.dat.txt', 'out_387588.dat.txt', 'out_964115.dat.txt',\n",
       "       'out_999561.dat.txt', 'out_974524.dat.txt', 'out_340656.dat.txt',\n",
       "       'out_998839.dat.txt', 'out_373888.dat.txt', 'out_383407.dat.txt',\n",
       "       'out_14390.dat.txt', 'out_992379.dat.txt', 'out_383016.dat.txt',\n",
       "       'out_997875.dat.txt', 'out_16237.dat.txt', 'out_12994.dat.txt',\n",
       "       'out_963177.dat.txt', 'out_375766.dat.txt', 'out_17140.dat.txt',\n",
       "       'out_326637.dat.txt', 'out_25299.dat.txt', 'out_994628.dat.txt',\n",
       "       'out_375900.dat.txt', 'out_44027.dat.txt', 'out_992430.dat.txt',\n",
       "       'out_70756.dat.txt', 'out_356685.dat.txt', 'out_22179.dat.txt',\n",
       "       'out_24617.dat.txt', 'out_374122.dat.txt', 'out_13490.dat.txt',\n",
       "       'out_378185.dat.txt', 'out_941926.dat.txt', 'out_29170.dat.txt',\n",
       "       'out_390372.dat.txt', 'out_350955.dat.txt', 'out_964349.dat.txt',\n",
       "       'out_977708.dat.txt', 'out_13311.dat.txt', 'out_993906.dat.txt',\n",
       "       'out_332870.dat.txt', 'out_966318.dat.txt', 'out_23112.dat.txt',\n",
       "       'out_386846.dat.txt', 'out_30296.dat.txt', 'out_29094.dat.txt',\n",
       "       'out_378941.dat.txt', 'out_992189.dat.txt', 'out_385513.dat.txt',\n",
       "       'out_362139.dat.txt', 'out_996043.dat.txt', 'out_342093.dat.txt',\n",
       "       'out_394330.dat.txt', 'out_338413.dat.txt', 'out_995654.dat.txt',\n",
       "       'out_991663.dat.txt', 'out_1000803.dat.txt', 'out_375805.dat.txt',\n",
       "       'out_398030.dat.txt', 'out_20727.dat.txt', 'out_972868.dat.txt',\n",
       "       'out_399330.dat.txt', 'out_991869.dat.txt', 'out_333354.dat.txt',\n",
       "       'out_351105.dat.txt', 'out_983371.dat.txt', 'out_369611.dat.txt',\n",
       "       'out_996311.dat.txt', 'out_993847.dat.txt', 'out_23603.dat.txt',\n",
       "       'out_393064.dat.txt', 'out_12012.dat.txt', 'out_973861.dat.txt',\n",
       "       'out_361901.dat.txt', 'out_26393.dat.txt', 'out_996318.dat.txt',\n",
       "       'out_382754.dat.txt', 'out_341378.dat.txt', 'out_388329.dat.txt',\n",
       "       'out_380411.dat.txt', 'out_355020.dat.txt', 'out_33084.dat.txt',\n",
       "       'out_385533.dat.txt', 'out_376013.dat.txt', 'out_992892.dat.txt',\n",
       "       'out_346871.dat.txt', 'out_1000148.dat.txt', 'out_351840.dat.txt',\n",
       "       'out_21155.dat.txt', 'out_13161.dat.txt', 'out_48876.dat.txt',\n",
       "       'out_994178.dat.txt', 'out_16127.dat.txt', 'out_907714.dat.txt',\n",
       "       'out_45328.dat.txt', 'out_375825.dat.txt', 'out_375173.dat.txt',\n",
       "       'out_987787.dat.txt', 'out_352325.dat.txt', 'out_12901.dat.txt',\n",
       "       'out_992941.dat.txt', 'out_348287.dat.txt', 'out_990260.dat.txt',\n",
       "       'out_391988.dat.txt', 'out_351393.dat.txt', 'out_393438.dat.txt',\n",
       "       'out_30667.dat.txt', 'out_26955.dat.txt', 'out_364521.dat.txt',\n",
       "       'out_25622.dat.txt', 'out_336812.dat.txt', 'out_395919.dat.txt',\n",
       "       'out_28849.dat.txt', 'out_366614.dat.txt', 'out_384195.dat.txt',\n",
       "       'out_390657.dat.txt', 'out_20521.dat.txt', 'out_12319.dat.txt',\n",
       "       'out_399612.dat.txt', 'out_21099.dat.txt', 'out_993150.dat.txt',\n",
       "       'out_388554.dat.txt', 'out_1001279.dat.txt', 'out_387350.dat.txt',\n",
       "       'out_19858.dat.txt', 'out_996409.dat.txt', 'out_338035.dat.txt',\n",
       "       'out_984953.dat.txt', 'out_29786.dat.txt', 'out_389301.dat.txt',\n",
       "       'out_356657.dat.txt', 'out_377706.dat.txt', 'out_57401.dat.txt',\n",
       "       'out_381998.dat.txt', 'out_24545.dat.txt', 'out_991910.dat.txt',\n",
       "       'out_985194.dat.txt', 'out_963405.dat.txt', 'out_16730.dat.txt',\n",
       "       'out_399913.dat.txt', 'out_330479.dat.txt', 'out_22546.dat.txt',\n",
       "       'out_23213.dat.txt', 'out_354159.dat.txt', 'out_994097.dat.txt',\n",
       "       'out_996863.dat.txt', 'out_991729.dat.txt', 'out_966954.dat.txt',\n",
       "       'out_972541.dat.txt', 'out_19425.dat.txt', 'out_968646.dat.txt',\n",
       "       'out_24607.dat.txt', 'out_969843.dat.txt', 'out_14136.dat.txt',\n",
       "       'out_374568.dat.txt', 'out_994366.dat.txt', 'out_991964.dat.txt',\n",
       "       'out_999377.dat.txt', 'out_356103.dat.txt', 'out_382333.dat.txt',\n",
       "       'out_999131.dat.txt', 'out_395047.dat.txt', 'out_993137.dat.txt',\n",
       "       'out_340071.dat.txt', 'out_372097.dat.txt', 'out_1000845.dat.txt',\n",
       "       'out_1000057.dat.txt', 'out_13736.dat.txt', 'out_383524.dat.txt',\n",
       "       'out_336760.dat.txt', 'out_380349.dat.txt', 'out_389684.dat.txt',\n",
       "       'out_383343.dat.txt', 'out_336151.dat.txt', 'out_1000114.dat.txt',\n",
       "       'out_25337.dat.txt', 'out_998371.dat.txt', 'out_17092.dat.txt',\n",
       "       'out_994323.dat.txt', 'out_394921.dat.txt', 'out_993564.dat.txt',\n",
       "       'out_991050.dat.txt', 'out_20458.dat.txt', 'out_377272.dat.txt',\n",
       "       'out_997471.dat.txt', 'out_979316.dat.txt', 'out_998269.dat.txt',\n",
       "       'out_399780.dat.txt', 'out_975425.dat.txt', 'out_389460.dat.txt',\n",
       "       'out_1006038.dat.txt', 'out_14698.dat.txt', 'out_332718.dat.txt',\n",
       "       'out_23136.dat.txt', 'out_991996.dat.txt', 'out_390825.dat.txt',\n",
       "       'out_337966.dat.txt', 'out_13462.dat.txt', 'out_28074.dat.txt',\n",
       "       'out_17660.dat.txt', 'out_982835.dat.txt', 'out_56207.dat.txt',\n",
       "       'out_355298.dat.txt', 'out_359809.dat.txt', 'out_996200.dat.txt',\n",
       "       'out_398093.dat.txt', 'out_988146.dat.txt', 'out_399353.dat.txt',\n",
       "       'out_14171.dat.txt', 'out_21420.dat.txt', 'out_12496.dat.txt',\n",
       "       'out_992878.dat.txt', 'out_398633.dat.txt', 'out_373323.dat.txt',\n",
       "       'out_23322.dat.txt', 'out_64155.dat.txt', 'out_1000488.dat.txt',\n",
       "       'out_353454.dat.txt', 'out_332143.dat.txt', 'out_999848.dat.txt',\n",
       "       'out_395705.dat.txt', 'out_388229.dat.txt', 'out_991517.dat.txt',\n",
       "       'out_992068.dat.txt', 'out_996207.dat.txt', 'out_340669.dat.txt',\n",
       "       'out_967001.dat.txt', 'out_992844.dat.txt', 'out_24197.dat.txt',\n",
       "       'out_354768.dat.txt', 'out_373600.dat.txt', 'out_397210.dat.txt',\n",
       "       'out_49236.dat.txt', 'out_86250.dat.txt', 'out_956332.dat.txt',\n",
       "       'out_20274.dat.txt', 'out_964746.dat.txt', 'out_14612.dat.txt',\n",
       "       'out_359554.dat.txt', 'out_997043.dat.txt', 'out_993272.dat.txt',\n",
       "       'out_399536.dat.txt', 'out_334673.dat.txt', 'out_14233.dat.txt',\n",
       "       'out_376575.dat.txt', 'out_337586.dat.txt', 'out_11962.dat.txt',\n",
       "       'out_388922.dat.txt', 'out_390666.dat.txt', 'out_390227.dat.txt',\n",
       "       'out_351042.dat.txt', 'out_992406.dat.txt', 'out_357567.dat.txt',\n",
       "       'out_393258.dat.txt', 'out_348406.dat.txt', 'out_19286.dat.txt',\n",
       "       'out_979084.dat.txt', 'out_996595.dat.txt', 'out_993573.dat.txt',\n",
       "       'out_381640.dat.txt', 'out_329513.dat.txt', 'out_568843.dat.txt',\n",
       "       'out_990609.dat.txt', 'out_968260.dat.txt', 'out_349450.dat.txt',\n",
       "       'out_983360.dat.txt', 'out_380229.dat.txt', 'out_987923.dat.txt',\n",
       "       'out_21588.dat.txt', 'out_25726.dat.txt', 'out_394177.dat.txt',\n",
       "       'out_364355.dat.txt', 'out_22327.dat.txt', 'out_354632.dat.txt',\n",
       "       'out_369977.dat.txt', 'out_928471.dat.txt', 'out_339806.dat.txt',\n",
       "       'out_24712.dat.txt', 'out_14856.dat.txt', 'out_25687.dat.txt',\n",
       "       'out_341124.dat.txt', 'out_23195.dat.txt', 'out_396387.dat.txt',\n",
       "       'out_350033.dat.txt', 'out_369346.dat.txt', 'out_991940.dat.txt',\n",
       "       'out_999150.dat.txt', 'out_999438.dat.txt', 'out_992587.dat.txt',\n",
       "       'out_329479.dat.txt', 'out_28986.dat.txt', 'out_952615.dat.txt',\n",
       "       'out_376991.dat.txt', 'out_331927.dat.txt', 'out_14538.dat.txt',\n",
       "       'out_21356.dat.txt', 'out_933955.dat.txt', 'out_349411.dat.txt',\n",
       "       'out_15245.dat.txt', 'out_1000734.dat.txt', 'out_985894.dat.txt',\n",
       "       'out_996957.dat.txt', 'out_19925.dat.txt', 'out_999821.dat.txt',\n",
       "       'out_376542.dat.txt', 'out_30614.dat.txt', 'out_367218.dat.txt',\n",
       "       'out_19947.dat.txt', 'out_29387.dat.txt', 'out_396615.dat.txt',\n",
       "       'out_991221.dat.txt', 'out_365567.dat.txt', 'out_29018.dat.txt',\n",
       "       'out_26210.dat.txt', 'out_398961.dat.txt', 'out_983663.dat.txt',\n",
       "       'out_384282.dat.txt', 'out_23929.dat.txt', 'out_379791.dat.txt',\n",
       "       'out_362978.dat.txt', 'out_373450.dat.txt', 'out_387860.dat.txt',\n",
       "       'out_357654.dat.txt', 'out_361011.dat.txt', 'out_25642.dat.txt',\n",
       "       'out_997862.dat.txt', 'out_997630.dat.txt', 'out_28585.dat.txt',\n",
       "       'out_384594.dat.txt', 'out_984129.dat.txt', 'out_356058.dat.txt',\n",
       "       'out_995003.dat.txt', 'out_374168.dat.txt', 'out_386262.dat.txt',\n",
       "       'out_30068.dat.txt', 'out_388174.dat.txt', 'out_990839.dat.txt',\n",
       "       'out_372426.dat.txt', 'out_69331.dat.txt', 'out_353317.dat.txt',\n",
       "       'out_390231.dat.txt', 'out_982990.dat.txt', 'out_996122.dat.txt',\n",
       "       'out_394761.dat.txt', 'out_997931.dat.txt', 'out_358574.dat.txt',\n",
       "       'out_399732.dat.txt', 'out_991463.dat.txt', 'out_384478.dat.txt',\n",
       "       'out_971939.dat.txt', 'out_977606.dat.txt', 'out_28743.dat.txt',\n",
       "       'out_384247.dat.txt', 'out_16661.dat.txt', 'out_387991.dat.txt',\n",
       "       'out_994077.dat.txt', 'out_394948.dat.txt', 'out_968264.dat.txt',\n",
       "       'out_282879.dat.txt', 'out_992287.dat.txt', 'out_995913.dat.txt',\n",
       "       'out_353168.dat.txt', 'out_13592.dat.txt', 'out_390578.dat.txt',\n",
       "       'out_372530.dat.txt', 'out_21098.dat.txt', 'out_391581.dat.txt',\n",
       "       'out_14088.dat.txt', 'out_999722.dat.txt', 'out_397449.dat.txt',\n",
       "       'out_995872.dat.txt', 'out_378186.dat.txt', 'out_29345.dat.txt',\n",
       "       'out_384824.dat.txt', 'out_989944.dat.txt', 'out_360045.dat.txt',\n",
       "       'out_999067.dat.txt', 'out_359084.dat.txt', 'out_990691.dat.txt',\n",
       "       'out_979770.dat.txt', 'out_347086.dat.txt', 'out_379552.dat.txt',\n",
       "       'out_994138.dat.txt', 'out_994250.dat.txt', 'out_967123.dat.txt',\n",
       "       'out_977357.dat.txt', 'out_13630.dat.txt', 'out_380887.dat.txt',\n",
       "       'out_14635.dat.txt', 'out_388969.dat.txt', 'out_380584.dat.txt',\n",
       "       'out_373394.dat.txt', 'out_359312.dat.txt', 'out_973455.dat.txt',\n",
       "       'out_385499.dat.txt', 'out_26584.dat.txt', 'out_990113.dat.txt',\n",
       "       'out_369505.dat.txt', 'out_377353.dat.txt', 'out_368561.dat.txt',\n",
       "       'out_389871.dat.txt', 'out_26183.dat.txt', 'out_383106.dat.txt',\n",
       "       'out_979215.dat.txt', 'out_997455.dat.txt', 'out_15587.dat.txt',\n",
       "       'out_26855.dat.txt', 'out_382920.dat.txt', 'out_372997.dat.txt',\n",
       "       'out_984648.dat.txt', 'out_364790.dat.txt', 'out_989555.dat.txt',\n",
       "       'out_392273.dat.txt', 'out_983013.dat.txt', 'out_373364.dat.txt',\n",
       "       'out_366974.dat.txt', 'out_350352.dat.txt', 'out_993534.dat.txt',\n",
       "       'out_993243.dat.txt', 'out_1000760.dat.txt', 'out_372262.dat.txt',\n",
       "       'out_350969.dat.txt', 'out_330780.dat.txt', 'out_391637.dat.txt',\n",
       "       'out_347108.dat.txt', 'out_988208.dat.txt', 'out_356526.dat.txt',\n",
       "       'out_395978.dat.txt', 'out_999989.dat.txt', 'out_985698.dat.txt',\n",
       "       'out_999903.dat.txt', 'out_999495.dat.txt', 'out_375477.dat.txt',\n",
       "       'out_844578.dat.txt', 'out_26735.dat.txt', 'out_352422.dat.txt',\n",
       "       'out_984302.dat.txt'], \n",
       "      dtype='|S19')"
      ]
     },
     "execution_count": 274,
     "metadata": {},
     "output_type": "execute_result"
    }
   ],
   "source": [
    "np.loadtxt('missing_stars_err_w_good_vs_err_w.txt', dtype=str)"
   ]
  },
  {
   "cell_type": "code",
   "execution_count": 220,
   "metadata": {
    "collapsed": false
   },
   "outputs": [
    {
     "data": {
      "text/plain": [
       "47787"
      ]
     },
     "execution_count": 220,
     "metadata": {},
     "output_type": "execute_result"
    }
   ],
   "source": [
    "file_list = np.loadtxt('stars_CRTS_analysis/good_err_LC.txt', dtype=str)\n",
    "len(file_list)"
   ]
  },
  {
   "cell_type": "code",
   "execution_count": 221,
   "metadata": {
    "collapsed": false
   },
   "outputs": [
    {
     "data": {
      "text/plain": [
       "47787"
      ]
     },
     "execution_count": 221,
     "metadata": {},
     "output_type": "execute_result"
    }
   ],
   "source": [
    "np.sum(np.in1d(dir_list,file_list))"
   ]
  },
  {
   "cell_type": "markdown",
   "metadata": {},
   "source": [
    "The above means that the lightcurves  in 'stars_CRTS_proc_err_w_good/'  are exactly those listed in 'stars_CRTS_analysis/good_err_LC.txt'  produced by qso_CRTS_good_LC_choosing_err_based.py\n",
    " "
   ]
  },
  {
   "cell_type": "code",
   "execution_count": 222,
   "metadata": {
    "collapsed": false
   },
   "outputs": [
    {
     "data": {
      "text/plain": [
       "47787"
      ]
     },
     "execution_count": 222,
     "metadata": {},
     "output_type": "execute_result"
    }
   ],
   "source": [
    "np.sum(np.in1d(acc_list, dir_list))"
   ]
  },
  {
   "cell_type": "code",
   "execution_count": 223,
   "metadata": {
    "collapsed": false
   },
   "outputs": [
    {
     "data": {
      "text/plain": [
       "47787"
      ]
     },
     "execution_count": 223,
     "metadata": {},
     "output_type": "execute_result"
    }
   ],
   "source": [
    "np.sum(np.in1d(dir_list,stars_LC_10_days_plus))"
   ]
  },
  {
   "cell_type": "markdown",
   "metadata": {},
   "source": [
    "So all the LCs in the  'stars_CRTS_proc_err_w_good/' are accepted by the miswritten filter,  but there are 11 lightcurves that were not accepted by that filter before , and were now. \n"
   ]
  },
  {
   "cell_type": "markdown",
   "metadata": {},
   "source": [
    "Since it turns out that the entire filter was miswritten ( the qso_CRTS_good_LC_choosing_err_based.py has an error in brackets in line  34 which is the condition of the filter ) , it definitely did not work as expected.  \n",
    "\n",
    "Thus , I need to compare the properties of lightcurves  in  'stars_CRTS_LC_err_w/' (the day-averaged with only those longer than and including 10 days)  to those in   'stars_CRTS_proc_err_w_good/'   (the outcome of the erroneous filtration :  \n",
    "` (np.median(err) < 0.1 and np.percentile(err,90)) < 0.2  `"
   ]
  },
  {
   "cell_type": "markdown",
   "metadata": {},
   "source": [
    "http://jupyter.cs.brynmawr.edu/hub/dblank/public/Jupyter%20Notebook%20Users%20Manual.ipynb#4.-Using-Markdown-Cells-for-Writing"
   ]
  },
  {
   "cell_type": "markdown",
   "metadata": {},
   "source": [
    "Calculate the properties of  'stars_CRTS_proc_err_w_good/' : "
   ]
  },
  {
   "cell_type": "code",
   "execution_count": 174,
   "metadata": {
    "collapsed": false
   },
   "outputs": [
    {
     "name": "stdout",
     "output_type": "stream",
     "text": [
      "[######### ] 96.00%\n"
     ]
    }
   ],
   "source": [
    "dir_err_w = 'stars_CRTS_proc_err_w_good/'\n",
    "stars_LC= listdir(dir_err_w)\n",
    "\n",
    "#remove_err_outliers = np.zeros_like(stars_LC, dtype=bool)\n",
    "\n",
    "stats_proc_err_wg = OrderedDict()\n",
    "keys = ['avg_mag', 'med_mag', 'avg_err', 'med_err', 'name', 'avg_err_90th_percentile']\n",
    "for key in keys: \n",
    "    stats_proc_err_wg[key] = [] \n",
    "\n",
    "k = 0\n",
    "total = float(len(lc_files))\n",
    "\n",
    "for i in range(len(stars_LC)):\n",
    "    # update progress...\n",
    "    percent = 100*(k / total)\n",
    "    if (k % 10) == 0 : # every tenth loop.. \n",
    "        update_progress(int(percent))\n",
    "    k += 1\n",
    "    \n",
    "    star_name_proc = stars_LC[i]\n",
    "    data = np.loadtxt(dir_err_w  + star_name_proc)\n",
    "    mjd_arr,avg_mags, avg_err_weights = data[:,0], data[:,1], data[:,2]\n",
    "\n",
    "    # Calculate stats for day-averaged stars \n",
    "    stats_proc_err_wg['avg_mag'].append(np.mean(avg_mags))\n",
    "    stats_proc_err_wg['med_mag'].append(np.median(avg_mags))\n",
    "    stats_proc_err_wg['avg_err'].append(np.mean(avg_err_weights))\n",
    "    stats_proc_err_wg['med_err'].append(np.median(avg_err_weights))\n",
    "    stats_proc_err_wg['name'].append(star_name_proc[4:-4])\n",
    "    stats_proc_err_wg['avg_err_90th_percentile'].append(np.percentile(avg_err_weights , 90))\n"
   ]
  },
  {
   "cell_type": "code",
   "execution_count": 225,
   "metadata": {
    "collapsed": false
   },
   "outputs": [
    {
     "data": {
      "text/plain": [
       "0.089423456790123465"
      ]
     },
     "execution_count": 225,
     "metadata": {},
     "output_type": "execute_result"
    }
   ],
   "source": [
    "np.median(stats_proc_err_wg['avg_err'])"
   ]
  },
  {
   "cell_type": "code",
   "execution_count": 226,
   "metadata": {
    "collapsed": false
   },
   "outputs": [
    {
     "data": {
      "text/plain": [
       "0.091374368686868684"
      ]
     },
     "execution_count": 226,
     "metadata": {},
     "output_type": "execute_result"
    }
   ],
   "source": [
    "np.median(stats_proc_err_w['avg_err'])"
   ]
  },
  {
   "cell_type": "code",
   "execution_count": 277,
   "metadata": {
    "collapsed": false
   },
   "outputs": [
    {
     "data": {
      "image/png": "[encoded data removed]",
      "text/plain": [
       "<matplotlib.figure.Figure at 0x7f058e9a22d0>"
      ]
     },
     "metadata": {},
     "output_type": "display_data"
    }
   ],
   "source": [
    "# Plot histograms comparing the two dirs  (original - unfiltered    and the incorrectly-filtered ) ... \n",
    "%matplotlib inline \n",
    "nbins = 50\n",
    "\n",
    "fig, axs = plt.subplots(2,3, figsize=(12,8))\n",
    "ax = np.ravel(axs)\n",
    "keys = stats_proc_err_w.keys()\n",
    "keys.remove('name')\n",
    "\n",
    "i = 0 \n",
    "for key  in keys:\n",
    "    hist1, bin_edges = np.histogram(stats_proc_err_w[key], bins = nbins, density=False)\n",
    "    bin_cen1 = (bin_edges[:-1] + bin_edges[1:])/2\n",
    "\n",
    "    hist2, bin_edges = np.histogram(stats_proc_err_wg[key], bins = nbins, density=False)\n",
    "    bin_cen2 = (bin_edges[:-1] + bin_edges[1:])/2\n",
    "\n",
    "    ax[i].plot(bin_cen1, hist1, color = 'green', alpha=0.5, ls='steps', label='unFilt '+ key[:15])\n",
    "    ax[i].plot(bin_cen2, hist2, color = 'red', alpha=0.5, ls='steps', label='misFilt '+ key[:15])\n",
    "    ax[i].legend(loc='upper right')\n",
    "    i += 1 \n",
    "ax[i].axis('off')\n",
    "plt.savefig('stars_CRTS_compare_filtered_vs_unfiltered.png')"
   ]
  },
  {
   "cell_type": "markdown",
   "metadata": {},
   "source": [
    "They are pretty much the same, so no reason to worry.  If Z. thinks it better to use the error-outliers clipping,  I can always select only those that are actually fulfulling the crieria, and remove them from the stars_CRTS_proc_err_w_good/ directory, and just rerun  the code for Fig.2, Fig.3 and Fig. 4  . "
   ]
  },
  {
   "cell_type": "markdown",
   "metadata": {},
   "source": [
    "Below  `old` means  stars_CRTS_processed_err_w/  which is the same as the newly-made   stars_CRTS_LC_err_w/  (before applying 'remove error outliers' filter ), \n",
    "and `new` means stars_CRTS_proc_err_w_good/  (after applying an erroneous filter, which God knows what it did )  . "
   ]
  },
  {
   "cell_type": "code",
   "execution_count": 229,
   "metadata": {
    "collapsed": false
   },
   "outputs": [
    {
     "name": "stdout",
     "output_type": "stream",
     "text": [
      "The mean of avg_mag : unfiltered vs  filtered : 18.735371 vs  18.688128 \n",
      "The mean of med_mag : unfiltered vs  filtered : 18.741062 vs  18.693179 \n",
      "The mean of avg_err : unfiltered vs  filtered : 0.133401 vs  0.132130 \n",
      "The mean of med_err : unfiltered vs  filtered : 0.124622 vs  0.123837 \n",
      "The mean of avg_err_90th_percentile : unfiltered vs  filtered : 0.186803 vs  0.184350 \n"
     ]
    }
   ],
   "source": [
    "for key in keys : \n",
    "    print('The mean of %s : unfiltered vs  filtered : %f vs  %f '%(key, np.mean(stats_proc_err_w[key]),\n",
    "                                                               np.mean(stats_proc_err_wg[key]) ) )"
   ]
  },
  {
   "cell_type": "code",
   "execution_count": 230,
   "metadata": {
    "collapsed": false
   },
   "outputs": [
    {
     "name": "stdout",
     "output_type": "stream",
     "text": [
      "The median of avg_mag : unfiltered vs  filtered : 19.173552 vs  19.095185 \n",
      "The median of med_mag : unfiltered vs  filtered : 19.160000 vs  19.084700 \n",
      "The median of avg_err : unfiltered vs  filtered : 0.091374 vs  0.089423 \n",
      "The median of med_err : unfiltered vs  filtered : 0.084500 vs  0.083500 \n",
      "The median of avg_err_90th_percentile : unfiltered vs  filtered : 0.109295 vs  0.106750 \n"
     ]
    }
   ],
   "source": [
    "for key in keys : \n",
    "    print('The median of %s : unfiltered vs  filtered : %f vs  %f '%(key, np.median(stats_proc_err_w[key]),\n",
    "                                                               np.median(stats_proc_err_wg[key]) ) )"
   ]
  },
  {
   "cell_type": "markdown",
   "metadata": {},
   "source": [
    "If I were to apply the actual filter in a correct way , here is the comparison  : \n",
    "    \n",
    "    "
   ]
  },
  {
   "cell_type": "code",
   "execution_count": 258,
   "metadata": {
    "collapsed": false
   },
   "outputs": [],
   "source": [
    "# require  the median error to be  < 0.1,   and the 90th percentile of the error distribution to be < 0.2 \n",
    "mask = (np.array(stats_proc_err_w['med_err']) < 0.1) * (np.array(stats_proc_err_w['avg_err_90th_percentile']) < 0.2) \n"
   ]
  },
  {
   "cell_type": "code",
   "execution_count": 255,
   "metadata": {
    "collapsed": false
   },
   "outputs": [
    {
     "data": {
      "text/plain": [
       "15"
      ]
     },
     "execution_count": 255,
     "metadata": {},
     "output_type": "execute_result"
    }
   ],
   "source": [
    "len('avg_err_90th_pe')"
   ]
  },
  {
   "cell_type": "code",
   "execution_count": 254,
   "metadata": {
    "collapsed": false
   },
   "outputs": [
    {
     "data": {
      "text/plain": [
       "27536"
      ]
     },
     "execution_count": 254,
     "metadata": {},
     "output_type": "execute_result"
    }
   ],
   "source": [
    "np.sum(mask)"
   ]
  },
  {
   "cell_type": "code",
   "execution_count": 278,
   "metadata": {
    "collapsed": false
   },
   "outputs": [
    {
     "data": {
      "image/png": "[encoded data removed]",
      "text/plain": [
       "<matplotlib.figure.Figure at 0x7f0586855e90>"
      ]
     },
     "metadata": {},
     "output_type": "display_data"
    }
   ],
   "source": [
    "# Plot histograms comparing the original (unfiltered)  vs filtered (correctly )\n",
    "%matplotlib inline \n",
    "nbins = 50\n",
    "\n",
    "fig, axs = plt.subplots(2,3, figsize=(12,8))\n",
    "ax = np.ravel(axs)\n",
    "keys = stats_proc_err_w.keys()\n",
    "keys.remove('name')\n",
    "\n",
    "i = 0 \n",
    "for key  in keys:\n",
    "    hist1, bin_edges = np.histogram(stats_proc_err_w[key], bins = nbins, density=False)\n",
    "    bin_cen1 = (bin_edges[:-1] + bin_edges[1:])/2\n",
    "\n",
    "    hist2, bin_edges = np.histogram(np.array(stats_proc_err_w[key])[mask], bins = nbins, density=False)\n",
    "    bin_cen2 = (bin_edges[:-1] + bin_edges[1:])/2\n",
    "\n",
    "    ax[i].plot(bin_cen1, hist1, color = 'green', alpha=0.5, ls='steps', label='unFilt '+ key[:15])\n",
    "    ax[i].plot(bin_cen2, hist2, color = 'red', alpha=0.5, ls='steps', label='Filt '+ key[:15])\n",
    "    ax[i].legend(loc='upper right')\n",
    "    i += 1 \n",
    "# http://stackoverflow.com/questions/10035446/how-can-i-make-a-blank-subplot-in-matplotlib \n",
    "ax[i].axis('off')\n",
    "plt.savefig('stars_CRTS_compare_filtered_vs_unfiltered2.png')"
   ]
  },
  {
   "cell_type": "markdown",
   "metadata": {},
   "source": [
    "I think it's better not to apply that filter  - otherwise our selection later (based precisely on average CRTS  lightcurve error) would not make any sense.  "
   ]
  },
  {
   "cell_type": "markdown",
   "metadata": {},
   "source": [
    "I think I would make an executive decision of NOT applying any filter at this stage, but instead in all analysis for Fig.2, Fig.3, Fig.4  use  stars_CRTS_processed_err_w/  or  stars_CRTS_LC_err_w/ , since these two directories contain identical lightcurves, which have gone through exactly as many selection steps as quasars did.  "
   ]
  },
  {
   "cell_type": "code",
   "execution_count": null,
   "metadata": {
    "collapsed": true
   },
   "outputs": [],
   "source": []
  }
 ],
 "metadata": {
  "kernelspec": {
   "display_name": "Python 2",
   "language": "python",
   "name": "python2"
  },
  "language_info": {
   "codemirror_mode": {
    "name": "ipython",
    "version": 2
   },
   "file_extension": ".py",
   "mimetype": "text/x-python",
   "name": "python",
   "nbconvert_exporter": "python",
   "pygments_lexer": "ipython2",
   "version": "2.7.11"
  }
 },
 "nbformat": 4,
 "nbformat_minor": 0
}
