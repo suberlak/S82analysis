{
 "cells": [
  {
   "cell_type": "code",
   "execution_count": 9,
   "metadata": {
    "collapsed": false
   },
   "outputs": [],
   "source": [
    "import numpy as np \n",
    "import matplotlib.pyplot as plt \n",
    "\n"
   ]
  },
  {
   "cell_type": "code",
   "execution_count": 13,
   "metadata": {
    "collapsed": false
   },
   "outputs": [
    {
     "data": {
      "image/png": "[encoded data removed]",
      "text/plain": [
       "<matplotlib.figure.Figure at 0x7f5bb63a10d0>"
      ]
     },
     "metadata": {},
     "output_type": "display_data"
    }
   ],
   "source": [
    "%matplotlib inline \n",
    "a = np.random.normal(loc=0.0, scale=1.0, size=1000)\n",
    "plt.hist(a)\n",
    "err = 0.001 * a "
   ]
  },
  {
   "cell_type": "code",
   "execution_count": 18,
   "metadata": {
    "collapsed": false
   },
   "outputs": [],
   "source": [
    "def calcWeightedMean(y,yerr):\n",
    "    ''' Calculate the weighted mean '''\n",
    "    N = len(y)\n",
    "    if N == 1 : \n",
    "        return float(y)    \n",
    "    elif N == 0 : \n",
    "        return np.nan\n",
    "    else: \n",
    "        # weights = 1 / (yerr ** 2.0)  \n",
    "        # wMean = np.sum(weights * flux) / np.sum(weights)\n",
    "        return float(np.add.reduce(y / (yerr * yerr)) / np.add.reduce((1/yerr)*(1/yerr)))\n",
    "\n",
    "    \n",
    "def calcWeightedStDev(y, yerr, yWmean):\n",
    "    ''' Calculate the  weighted standard deviation\n",
    "    Needs the weighted mean on y to be calculated \n",
    "    beforehand, using eg. calcWeightedMean()\n",
    "    I'm using Bessel's correction to make it unbiased ...\n",
    "    \n",
    "    # calculate  weighted standard deviation corrected for intrinsic scatter \n",
    "    # using http://www.itl.nist.gov/div898/software/dataplot/refman2/ch2/weightsd.pdf\n",
    "    # Yusra uses 1/N-1 instead of N/N-1.... calcWStdCorrAndMean\n",
    "    # I'm pretty confused having read https://en.wikipedia.org/wiki/Bessel's_correction\n",
    "    # and https://en.wikipedia.org/wiki/Weighted_arithmetic_mean#Weighted_sample_variance\n",
    "    # after that http://stats.stackexchange.com/questions/6534/how-do-i-calculate-a-weighted-standard-deviation-in-excel I'm done. \n",
    "\n",
    "    '''\n",
    "    N = len(y)\n",
    "    if N == 1:\n",
    "        return float(yerr)\n",
    "    elif N == 0:\n",
    "        return np.nan \n",
    "    else :     \n",
    "        weights=1.0 / ( yerr *yerr)\n",
    "        return np.sqrt((1 / (N-1.0) ) * (np.sum(weights * ((y - yWmean) ** 2.0)) / np.sum(weights)))  \n"
   ]
  },
  {
   "cell_type": "code",
   "execution_count": 16,
   "metadata": {
    "collapsed": true
   },
   "outputs": [],
   "source": [
    "wstdev_NN1 = calcWeightedStDev(a, 0.001*a, calcWeightedMean(a,0.001*a))"
   ]
  },
  {
   "cell_type": "code",
   "execution_count": 20,
   "metadata": {
    "collapsed": false
   },
   "outputs": [],
   "source": [
    "wstdev_N1 =  calcWeightedStDev(a, 0.001*a, calcWeightedMean(a,0.001*a))"
   ]
  },
  {
   "cell_type": "code",
   "execution_count": 25,
   "metadata": {
    "collapsed": false
   },
   "outputs": [
    {
     "data": {
      "text/plain": [
       "7.7864164944293818e-05"
      ]
     },
     "execution_count": 25,
     "metadata": {},
     "output_type": "execute_result"
    }
   ],
   "source": [
    "wstdev_N1"
   ]
  },
  {
   "cell_type": "code",
   "execution_count": 23,
   "metadata": {
    "collapsed": false
   },
   "outputs": [
    {
     "data": {
      "text/plain": [
       "-5.704453846187589e-05"
      ]
     },
     "execution_count": 23,
     "metadata": {},
     "output_type": "execute_result"
    }
   ],
   "source": [
    "mean = calcWeightedMean(a,0.001*a)\n",
    "mean"
   ]
  },
  {
   "cell_type": "code",
   "execution_count": null,
   "metadata": {
    "collapsed": true
   },
   "outputs": [],
   "source": []
  }
 ],
 "metadata": {
  "kernelspec": {
   "display_name": "Python 2",
   "language": "python",
   "name": "python2"
  },
  "language_info": {
   "codemirror_mode": {
    "name": "ipython",
    "version": 2
   },
   "file_extension": ".py",
   "mimetype": "text/x-python",
   "name": "python",
   "nbconvert_exporter": "python",
   "pygments_lexer": "ipython2",
   "version": "2.7.12"
  }
 },
 "nbformat": 4,
 "nbformat_minor": 0
}
