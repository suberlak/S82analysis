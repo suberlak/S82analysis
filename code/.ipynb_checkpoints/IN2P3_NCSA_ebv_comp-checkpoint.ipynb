{
 "cells": [
  {
   "cell_type": "code",
   "execution_count": 2,
   "metadata": {
    "collapsed": true
   },
   "outputs": [],
   "source": [
    "import pandas as pd\n",
    "import numpy as np \n",
    "import matplotlib.pyplot as plt "
   ]
  },
  {
   "cell_type": "code",
   "execution_count": 3,
   "metadata": {
    "collapsed": true
   },
   "outputs": [],
   "source": [
    "# check the original e(b-v)... How is it possible that for IDENTICAL objects, the E(B-V) for IN2P3 \n",
    "# is not IDENTICAL to that in NCSA ? \n",
    "dir_info_files = '/astro/store/scratch/tmp/suberlak/S13Agg/repo_fls/'\n",
    "\n",
    "ebv_ncsa = pd.read_table(dir_info_files+'ebv_NCSA_lt235.dat.gz', delimiter=' ', usecols=[0,1])\n",
    "ebv_ncsa.columns = ['objectId','ebv']\n",
    "ebv_intpt = pd.read_table(dir_info_files+ 'ebv_IN2P3_lt230.dat.gz', delimiter=' ', usecols=[0,1])\n",
    "ebv_intpt.columns = ['objectId','ebv'] "
   ]
  },
  {
   "cell_type": "code",
   "execution_count": 4,
   "metadata": {
    "collapsed": false
   },
   "outputs": [
    {
     "data": {
      "text/plain": [
       "332239"
      ]
     },
     "execution_count": 4,
     "metadata": {},
     "output_type": "execute_result"
    }
   ],
   "source": [
    "# How many objects overlap between IN2P3 and NCSA \n",
    "np.sum(np.in1d(ebv_intpt['objectId'].values, ebv_ncsa['objectId'].values))"
   ]
  },
  {
   "cell_type": "code",
   "execution_count": 5,
   "metadata": {
    "collapsed": true
   },
   "outputs": [],
   "source": [
    "# Select duplicates \n",
    "mask_duplicates_intpt = np.in1d(ebv_intpt['objectId'].values, ebv_ncsa['objectId'].values)\n",
    "intpt_duplicates =  ebv_intpt[mask_duplicates_intpt]\n",
    "\n",
    "mask_duplicates_ncsa = np.in1d(ebv_ncsa['objectId'].values, ebv_intpt['objectId'].values)\n",
    "ncsa_duplicates = ebv_ncsa[mask_duplicates_ncsa]"
   ]
  },
  {
   "cell_type": "code",
   "execution_count": 18,
   "metadata": {
    "collapsed": true
   },
   "outputs": [],
   "source": [
    "ebv_dups_merged = pd.merge(intpt_duplicates, ncsa_duplicates, on='objectId',suffixes=('_intpt','_ncsa'))"
   ]
  },
  {
   "cell_type": "code",
   "execution_count": 19,
   "metadata": {
    "collapsed": false
   },
   "outputs": [
    {
     "data": {
      "image/png": "[encoded data removed]",
      "text/plain": [
       "<matplotlib.figure.Figure at 0x7fdfa9063c10>"
      ]
     },
     "metadata": {},
     "output_type": "display_data"
    }
   ],
   "source": [
    "%matplotlib inline \n",
    "fig,ax = plt.subplots()\n",
    "\n",
    "x = ebv_dups_merged['ebv_intpt'].values\n",
    "mask_x = x < 160\n",
    "y = ebv_dups_merged['ebv_ncsa'].values\n",
    "mask_y = y < 160\n",
    "\n",
    "mask_xy = mask_x * mask_y \n",
    "\n",
    "H, xedges, yedges = np.histogram2d(x[mask_xy], y[mask_xy], bins=50)\n",
    "H = np.rot90(H)\n",
    "H = np.flipud(H)\n",
    "# Mask zeros\n",
    "Hmasked = np.ma.masked_where(H==0,H) # Mask pixels with a value of zeropltssssss\n",
    "# Plot 2D histogram using pcolor\n",
    "cmap = ax.pcolormesh(xedges,yedges,np.log10(Hmasked), cmap='jet')\n",
    "ax.set_xlabel('E(B-V) IN2P3', fontsize=15)\n",
    "ax.set_ylabel('E(B-V) NCSA', fontsize=15)\n",
    "cbar = plt.colorbar(cmap)\n",
    "cbar.set_label(r'$\\log_{10}(counts)$', fontsize=15)\n",
    "plt.savefig('in2p3_ncsa_ebv_comp')"
   ]
  },
  {
   "cell_type": "code",
   "execution_count": 20,
   "metadata": {
    "collapsed": false
   },
   "outputs": [
    {
     "data": {
      "text/html": [
       "<div>\n",
       "<table border=\"1\" class=\"dataframe\">\n",
       "  <thead>\n",
       "    <tr style=\"text-align: right;\">\n",
       "      <th></th>\n",
       "      <th>objectId</th>\n",
       "      <th>ebv_intpt</th>\n",
       "      <th>ebv_ncsa</th>\n",
       "    </tr>\n",
       "  </thead>\n",
       "  <tbody>\n",
       "    <tr>\n",
       "      <th>0</th>\n",
       "      <td>3254565558288976</td>\n",
       "      <td>0.019397</td>\n",
       "      <td>0.019397</td>\n",
       "    </tr>\n",
       "    <tr>\n",
       "      <th>1</th>\n",
       "      <td>3254565558288977</td>\n",
       "      <td>0.019750</td>\n",
       "      <td>0.019750</td>\n",
       "    </tr>\n",
       "    <tr>\n",
       "      <th>2</th>\n",
       "      <td>3254565558288993</td>\n",
       "      <td>0.019761</td>\n",
       "      <td>0.019761</td>\n",
       "    </tr>\n",
       "    <tr>\n",
       "      <th>3</th>\n",
       "      <td>3254565558288995</td>\n",
       "      <td>0.019426</td>\n",
       "      <td>0.019426</td>\n",
       "    </tr>\n",
       "    <tr>\n",
       "      <th>4</th>\n",
       "      <td>3254565558288998</td>\n",
       "      <td>0.021280</td>\n",
       "      <td>0.021280</td>\n",
       "    </tr>\n",
       "  </tbody>\n",
       "</table>\n",
       "</div>"
      ],
      "text/plain": [
       "           objectId  ebv_intpt  ebv_ncsa\n",
       "0  3254565558288976   0.019397  0.019397\n",
       "1  3254565558288977   0.019750  0.019750\n",
       "2  3254565558288993   0.019761  0.019761\n",
       "3  3254565558288995   0.019426  0.019426\n",
       "4  3254565558288998   0.021280  0.021280"
      ]
     },
     "execution_count": 20,
     "metadata": {},
     "output_type": "execute_result"
    }
   ],
   "source": [
    "ebv_dups_merged.head()"
   ]
  },
  {
   "cell_type": "code",
   "execution_count": 27,
   "metadata": {
    "collapsed": false
   },
   "outputs": [],
   "source": [
    "# Check those patches ...\n",
    "\n",
    "patch_bounds = pd.read_table(dir_info_files+'coaddBounds.txt', delim_whitespace=True)"
   ]
  },
  {
   "cell_type": "code",
   "execution_count": 129,
   "metadata": {
    "collapsed": false
   },
   "outputs": [
    {
     "data": {
      "text/plain": [
       "(-1.3586700000000003, 1.3587800000000001)"
      ]
     },
     "execution_count": 129,
     "metadata": {},
     "output_type": "execute_result"
    },
    {
     "data": {
      "image/png": "[encoded data removed]",
      "text/plain": [
       "<matplotlib.figure.Figure at 0x7fdf98be6850>"
      ]
     },
     "metadata": {},
     "output_type": "display_data"
    }
   ],
   "source": [
    "%matplotlib inline \n",
    "\n",
    "from matplotlib.patches import Rectangle\n",
    "fig,ax = plt.subplots()\n",
    "\n",
    "N =1200\n",
    "\n",
    "# set color iterator \n",
    "colormap = plt.cm.gist_ncar #nipy_spectral, Set1,Paired   \n",
    "colors = [colormap(i) for i in np.linspace(0, 1,N)]\n",
    "\n",
    "c = np.append(patch_bounds['minRA'].values[:N],patch_bounds['maxRA'].values[:N])\n",
    "ra_min, ra_max = min(c), max(c)\n",
    "d = np.append(patch_bounds['minDec'].values[:N],patch_bounds['maxDec'].values[:N])\n",
    "dec_min, dec_max = min(d), max(d)\n",
    "\n",
    "delta_ra_store = []\n",
    "delta_dec_store = []\n",
    "\n",
    "for i in range(len(patch_bounds[:N])):\n",
    "    min_ra = min(patch_bounds['minRA'].values[i], patch_bounds['maxRA'].values[i])\n",
    "    min_dec = min(patch_bounds['minDec'].values[i], patch_bounds['maxDec'].values[i])\n",
    "\n",
    "    delta_ra = abs(patch_bounds['maxRA'].values[i]-patch_bounds['minRA'].values[i])\n",
    "    delta_dec = abs(patch_bounds['maxDec'].values[i]- patch_bounds['minDec'].values[i])\n",
    "    delta_ra_store.append(delta_ra)\n",
    "    delta_dec_store.append(delta_dec)\n",
    "    ax.add_patch(Rectangle((min_ra,min_dec), delta_ra,delta_dec, facecolor=colors[i], alpha=0.5))\n",
    "ax.set_xlim(ra_min-0.2, ra_max+0.2)\n",
    "ax.set_ylim(dec_min-0.1, dec_max+0.1)"
   ]
  },
  {
   "cell_type": "code",
   "execution_count": 131,
   "metadata": {
    "collapsed": false
   },
   "outputs": [
    {
     "data": {
      "text/plain": [
       "0.21637999999999999"
      ]
     },
     "execution_count": 131,
     "metadata": {},
     "output_type": "execute_result"
    }
   ],
   "source": [
    "delta_dec\n"
   ]
  },
  {
   "cell_type": "code",
   "execution_count": 76,
   "metadata": {
    "collapsed": false
   },
   "outputs": [
    {
     "ename": "ValueError",
     "evalue": "could not broadcast input array from shape (20) into shape (10)",
     "output_type": "error",
     "traceback": [
      "\u001b[1;31m---------------------------------------------------------------------------\u001b[0m",
      "\u001b[1;31mValueError\u001b[0m                                Traceback (most recent call last)",
      "\u001b[1;32m<ipython-input-76-6b3e19441704>\u001b[0m in \u001b[0;36m<module>\u001b[1;34m()\u001b[0m\n\u001b[1;32m----> 1\u001b[1;33m \u001b[0mpatch_bounds\u001b[0m\u001b[1;33m[\u001b[0m\u001b[1;34m'maxRA'\u001b[0m\u001b[1;33m]\u001b[0m\u001b[1;33m.\u001b[0m\u001b[0mvalues\u001b[0m\u001b[1;33m[\u001b[0m\u001b[1;33m:\u001b[0m\u001b[0mN\u001b[0m\u001b[1;33m]\u001b[0m \u001b[1;33m=\u001b[0m \u001b[0mnp\u001b[0m\u001b[1;33m.\u001b[0m\u001b[0mappend\u001b[0m\u001b[1;33m(\u001b[0m \u001b[0mpatch_bounds\u001b[0m\u001b[1;33m[\u001b[0m\u001b[1;34m'maxRA'\u001b[0m\u001b[1;33m]\u001b[0m\u001b[1;33m.\u001b[0m\u001b[0mvalues\u001b[0m\u001b[1;33m[\u001b[0m\u001b[1;33m:\u001b[0m\u001b[0mN\u001b[0m\u001b[1;33m]\u001b[0m\u001b[1;33m,\u001b[0m \u001b[0mpatch_bounds\u001b[0m\u001b[1;33m[\u001b[0m\u001b[1;34m'minRA'\u001b[0m\u001b[1;33m]\u001b[0m\u001b[1;33m.\u001b[0m\u001b[0mvalues\u001b[0m\u001b[1;33m[\u001b[0m\u001b[1;33m:\u001b[0m\u001b[0mN\u001b[0m\u001b[1;33m]\u001b[0m \u001b[1;33m)\u001b[0m\u001b[1;33m\u001b[0m\u001b[0m\n\u001b[0m",
      "\u001b[1;31mValueError\u001b[0m: could not broadcast input array from shape (20) into shape (10)"
     ]
    }
   ],
   "source": [
    "patch_bounds['maxRA'].values[:N] = np.append( patch_bounds['maxRA'].values[:N], patch_bounds['minRA'].values[:N] )"
   ]
  },
  {
   "cell_type": "code",
   "execution_count": 91,
   "metadata": {
    "collapsed": false
   },
   "outputs": [],
   "source": [
    "a = list()\n",
    "b = list()\n",
    "a.append(b)"
   ]
  },
  {
   "cell_type": "code",
   "execution_count": 99,
   "metadata": {
    "collapsed": false
   },
   "outputs": [],
   "source": [
    "a = patch_bounds['minRA'].values[:N]\n",
    "b = patch_bounds['maxRA'].values[:N]\n",
    "c = np.append(a,b)"
   ]
  },
  {
   "cell_type": "code",
   "execution_count": 101,
   "metadata": {
    "collapsed": false
   },
   "outputs": [
    {
     "data": {
      "text/plain": [
       "54.896640000000005"
      ]
     },
     "execution_count": 101,
     "metadata": {},
     "output_type": "execute_result"
    }
   ],
   "source": [
    "np.min(c)\n"
   ]
  },
  {
   "cell_type": "code",
   "execution_count": null,
   "metadata": {
    "collapsed": true
   },
   "outputs": [],
   "source": []
  }
 ],
 "metadata": {
  "kernelspec": {
   "display_name": "Python 2",
   "language": "python",
   "name": "python2"
  },
  "language_info": {
   "codemirror_mode": {
    "name": "ipython",
    "version": 2
   },
   "file_extension": ".py",
   "mimetype": "text/x-python",
   "name": "python",
   "nbconvert_exporter": "python",
   "pygments_lexer": "ipython2",
   "version": "2.7.12"
  }
 },
 "nbformat": 4,
 "nbformat_minor": 0
}
