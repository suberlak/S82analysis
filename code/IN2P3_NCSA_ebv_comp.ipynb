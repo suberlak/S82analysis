{
 "cells": [
  {
   "cell_type": "code",
   "execution_count": 2,
   "metadata": {
    "collapsed": true
   },
   "outputs": [],
   "source": [
    "import pandas as pd\n",
    "import numpy as np \n",
    "import matplotlib.pyplot as plt "
   ]
  },
  {
   "cell_type": "code",
   "execution_count": 3,
   "metadata": {
    "collapsed": true
   },
   "outputs": [],
   "source": [
    "# check the original e(b-v)... How is it possible that for IDENTICAL objects, the E(B-V) for IN2P3 \n",
    "# is not IDENTICAL to that in NCSA ? \n",
    "dir_info_files = '/astro/store/scratch/tmp/suberlak/S13Agg/repo_fls/'\n",
    "\n",
    "ebv_ncsa = pd.read_table(dir_info_files+'ebv_NCSA_lt235.dat.gz', delimiter=' ', usecols=[0,1])\n",
    "ebv_ncsa.columns = ['objectId','ebv']\n",
    "ebv_intpt = pd.read_table(dir_info_files+ 'ebv_IN2P3_lt230.dat.gz', delimiter=' ', usecols=[0,1])\n",
    "ebv_intpt.columns = ['objectId','ebv'] "
   ]
  },
  {
   "cell_type": "code",
   "execution_count": 4,
   "metadata": {
    "collapsed": false
   },
   "outputs": [
    {
     "data": {
      "text/plain": [
       "332239"
      ]
     },
     "execution_count": 4,
     "metadata": {},
     "output_type": "execute_result"
    }
   ],
   "source": [
    "# How many objects overlap between IN2P3 and NCSA \n",
    "np.sum(np.in1d(ebv_intpt['objectId'].values, ebv_ncsa['objectId'].values))"
   ]
  },
  {
   "cell_type": "code",
   "execution_count": 5,
   "metadata": {
    "collapsed": true
   },
   "outputs": [],
   "source": [
    "# Select duplicates \n",
    "mask_duplicates_intpt = np.in1d(ebv_intpt['objectId'].values, ebv_ncsa['objectId'].values)\n",
    "intpt_duplicates =  ebv_intpt[mask_duplicates_intpt]\n",
    "\n",
    "mask_duplicates_ncsa = np.in1d(ebv_ncsa['objectId'].values, ebv_intpt['objectId'].values)\n",
    "ncsa_duplicates = ebv_ncsa[mask_duplicates_ncsa]"
   ]
  },
  {
   "cell_type": "code",
   "execution_count": 6,
   "metadata": {
    "collapsed": true
   },
   "outputs": [],
   "source": [
    "ebv_dups_merged = pd.merge(intpt_duplicates, ncsa_duplicates, on='objectId',suffixes=('_ncsa','_intpt'))"
   ]
  },
  {
   "cell_type": "code",
   "execution_count": 11,
   "metadata": {
    "collapsed": false
   },
   "outputs": [
    {
     "data": {
      "image/png": "[encoded data removed]",
      "text/plain": [
       "<matplotlib.figure.Figure at 0x7fdfabc4e190>"
      ]
     },
     "metadata": {},
     "output_type": "display_data"
    }
   ],
   "source": [
    "%matplotlib inline \n",
    "fig,ax = plt.subplots()\n",
    "\n",
    "x = ebv_dups_merged['ebv_intpt'].values\n",
    "mask_x = x < 160\n",
    "y = ebv_dups_merged['ebv_ncsa'].values\n",
    "mask_y = y < 160\n",
    "\n",
    "mask_xy = mask_x * mask_y \n",
    "\n",
    "H, xedges, yedges = np.histogram2d(x[mask_xy], y[mask_xy], bins=50)\n",
    "H = np.rot90(H)\n",
    "H = np.flipud(H)\n",
    "# Mask zeros\n",
    "Hmasked = np.ma.masked_where(H==0,H) # Mask pixels with a value of zeropltssssss\n",
    "# Plot 2D histogram using pcolor\n",
    "cmap = ax.pcolormesh(xedges,yedges,np.log10(Hmasked), cmap='jet')\n",
    "ax.set_xlabel()\n",
    "ax\n",
    "cbar = plt.colorbar(cmap)\n",
    "cbar.set_label(r'$\\log_{10}(counts)$', fontsize=15)"
   ]
  },
  {
   "cell_type": "code",
   "execution_count": null,
   "metadata": {
    "collapsed": true
   },
   "outputs": [],
   "source": []
  }
 ],
 "metadata": {
  "kernelspec": {
   "display_name": "Python 2",
   "language": "python",
   "name": "python2"
  },
  "language_info": {
   "codemirror_mode": {
    "name": "ipython",
    "version": 2
   },
   "file_extension": ".py",
   "mimetype": "text/x-python",
   "name": "python",
   "nbconvert_exporter": "python",
   "pygments_lexer": "ipython2",
   "version": "2.7.12"
  }
 },
 "nbformat": 4,
 "nbformat_minor": 0
}
