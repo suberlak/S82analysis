{
 "cells": [
  {
   "cell_type": "markdown",
   "metadata": {},
   "source": [
    "# Benchmarking the variabilityFunctions.py "
   ]
  },
  {
   "cell_type": "markdown",
   "metadata": {},
   "source": [
    "A notebook to benchmark the functions used to find sigma_full and mu_full, trying to figure out how to make computeVarMetrics faster ?  "
   ]
  },
  {
   "cell_type": "code",
   "execution_count": 2,
   "metadata": {
    "collapsed": true
   },
   "outputs": [],
   "source": [
    "import pandas as pd\n",
    "import numpy as np\n",
    "import matplotlib.pyplot as plt\n",
    "import os \n",
    "pd.options.mode.chained_assignment = None\n",
    "# to avoid  http://stackoverflow.com/questions/20625582/how-to-deal-with-this-pandas-warning\n",
    "\n",
    "# for all imports of my functions, \n",
    "# make python aware of my packages...\n",
    "import sys\n",
    "sys.path.insert(0, '/astro/users/suberlak/S13Agg_analysis/packages/')\n",
    "\n",
    "# faint source treatment \n",
    "import faintFunctions as faintF \n",
    "\n",
    "# variability \n",
    "\n",
    "import variabilityFunctions as varF\n",
    "from astroML.stats import median_sigmaG\n",
    "from astropy.time import Time"
   ]
  },
  {
   "cell_type": "code",
   "execution_count": 3,
   "metadata": {
    "collapsed": true
   },
   "outputs": [],
   "source": [
    "# Read in the raw lightcurve /...\n",
    "\n",
    "DirIn = '/astro/store/scratch/tmp/suberlak/S13Agg/rawDataFPSplit/'\n",
    "#'/astro/store/scratch/tmp/suberlak/s13_stripe82/forced_phot_lt_23/NCSA/Proc_no_rms/'\n",
    "name = 'g176_181.csv'\n",
    "fp_data = pd.read_csv(DirIn+name, nrows=100000, usecols=['objectId', 'mjd', 'psfFlux', 'psfFluxErr'])"
   ]
  },
  {
   "cell_type": "code",
   "execution_count": 4,
   "metadata": {
    "collapsed": false
   },
   "outputs": [
    {
     "name": "stdout",
     "output_type": "stream",
     "text": [
      "There are 52032 points of 100000 that have SNR<2\n"
     ]
    }
   ],
   "source": [
    "#\n",
    "##########  STEP 1 : single-epoch data ###########  \n",
    "#\n",
    "\n",
    "####  first drop all NaNs  in psfFlux...      \n",
    "m1  = np.isnan(fp_data['psfFlux'])  # True if NaN  \n",
    "m2 =  ~np.isfinite(fp_data['psfFlux']) #  True if not finite  \n",
    "m  = m1 | m2  # a logical or \n",
    "if np.sum(m) > 0 :  # only apply if there is anything to drop ... \n",
    "    fp_data.drop(m.index[m], inplace=True)  # drop entire rows \n",
    "    print('Okay, we dropped %d rows where psfFlux is NaN or inf'%np.sum(m))\n",
    "\n",
    "#### check to make sure that there are no NaN psfFluxErr... \n",
    "m1  = np.isnan(fp_data['psfFluxErr'])  # True if NaN  \n",
    "m2 =  ~np.isfinite(fp_data['psfFluxErr']) #  True if not finite  \n",
    "m  = m1 | m2  # a logical or \n",
    "if np.sum(m) > 0 :  # only apply if there is anything to drop ... \n",
    "    fp_data.drop(m.index[m], inplace=True)\n",
    "    print('Okay, we dropped %d rows where psfFluxErr is NaN or inf'%np.sum(m))\n",
    "# make a new column, fill with 0's\n",
    "fp_data['flagFaint'] = 0\n",
    "\n",
    "# mask those rows that correspond to SNR < 2\n",
    "mask = (fp_data['psfFlux'].values / fp_data['psfFluxErr'].values) < 2\n",
    "\n",
    "# print info how many points are affected\n",
    "print('There are %d points of %d that have SNR<2' %(np.sum(mask),len(mask)))\n",
    "\n",
    "# set flag at those rows to 1\n",
    "fp_data.ix[mask, 'flagFaint'] = 1\n",
    "\n",
    "# make new columns for  Mean  Median  2 sigma...\n",
    "fp_data['faintMean'] = np.nan\n",
    "fp_data['faintMedian'] = np.nan\n",
    "fp_data['faintTwoSigma'] = np.nan\n",
    "fp_data['faintRMS'] = np.nan\n",
    "# calculate the faint replacement only for faint points...\n",
    "fp_data.ix[mask, 'faintMean'] = faintF.calculate_mean(fp_data['psfFlux'][mask].values,fp_data['psfFluxErr'][mask].values)\n",
    "fp_data.ix[mask, 'faintMedian'] = faintF.calculate_median(fp_data['psfFlux'][mask].values,fp_data['psfFluxErr'][mask].values)\n",
    "fp_data.ix[mask, 'faintTwoSigma'] = faintF.calculate_2sigma(fp_data['psfFlux'][mask].values,fp_data['psfFluxErr'][mask].values)\n",
    "fp_data.ix[mask, 'faintRMS'] = faintF.calculate_rms(fp_data['psfFlux'][mask].values,fp_data['psfFluxErr'][mask].values)"
   ]
  },
  {
   "cell_type": "code",
   "execution_count": 5,
   "metadata": {
    "collapsed": true
   },
   "outputs": [],
   "source": [
    "#\n",
    "##########  STEP 2 : Derived Quantities ###########  \n",
    "#\n",
    "\n",
    "####  replace all psfFlux  where SNR < 2  with  faintMean  \n",
    "rows = fp_data['flagFaint'] == 1\n",
    "fp_data.ix[rows, 'psfFlux'] = fp_data.ix[rows, 'faintMean']\n",
    "\n",
    "# group by objectId to calculate full LC variability characteristics \n",
    "grouped = fp_data.groupby('objectId')\n"
   ]
  },
  {
   "cell_type": "code",
   "execution_count": 6,
   "metadata": {
    "collapsed": true
   },
   "outputs": [],
   "source": [
    "# An average lightcurve  : 72 pts \n",
    "df = grouped.get_group(grouped.groups.keys()[1])"
   ]
  },
  {
   "cell_type": "code",
   "execution_count": 7,
   "metadata": {
    "collapsed": true
   },
   "outputs": [],
   "source": [
    "# Double that lightcurve : 144 pts \n",
    "df2 = df.append(df)"
   ]
  },
  {
   "cell_type": "code",
   "execution_count": null,
   "metadata": {
    "collapsed": true
   },
   "outputs": [],
   "source": [
    "# N=1000 bootstraps... One lightcurve , N=72 pts\n",
    "reload(varF)\n",
    "%timeit varF.computeVarMetrics(df2)"
   ]
  },
  {
   "cell_type": "code",
   "execution_count": null,
   "metadata": {
    "collapsed": true
   },
   "outputs": [],
   "source": [
    "# N=10000 bootstraps...\n",
    "reload(varF)\n",
    "%timeit varF.computeVarMetrics(df)"
   ]
  },
  {
   "cell_type": "code",
   "execution_count": null,
   "metadata": {
    "collapsed": true
   },
   "outputs": [],
   "source": [
    "varMetricsFull = grouped.apply(varF.computeVarMetrics)"
   ]
  },
  {
   "cell_type": "code",
   "execution_count": null,
   "metadata": {
    "collapsed": true
   },
   "outputs": [],
   "source": []
  }
 ],
 "metadata": {
  "kernelspec": {
   "display_name": "Python 2",
   "language": "python",
   "name": "python2"
  },
  "language_info": {
   "codemirror_mode": {
    "name": "ipython",
    "version": 2
   },
   "file_extension": ".py",
   "mimetype": "text/x-python",
   "name": "python",
   "nbconvert_exporter": "python",
   "pygments_lexer": "ipython2",
   "version": "2.7.11"
  }
 },
 "nbformat": 4,
 "nbformat_minor": 0
}
