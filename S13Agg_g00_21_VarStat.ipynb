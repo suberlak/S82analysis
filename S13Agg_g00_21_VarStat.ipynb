{
 "cells": [
  {
   "cell_type": "markdown",
   "metadata": {},
   "source": [
    "# Variability Statistics for raw Forced Photometry lightcurves  in  g00_21.csv "
   ]
  },
  {
   "cell_type": "markdown",
   "metadata": {},
   "source": [
    "A  notebook to plot the results of full analysis on single patch-file g00_21.csv , in an effort to clean-up S13Agg_first_look, and facilitate easier reproducibility "
   ]
  },
  {
   "cell_type": "code",
   "execution_count": 1,
   "metadata": {
    "collapsed": true
   },
   "outputs": [],
   "source": [
    "import pandas as pd\n",
    "import numpy as np \n",
    "import matplotlib.pyplot as plt "
   ]
  },
  {
   "cell_type": "markdown",
   "metadata": {},
   "source": [
    "## varMetricsFull : stats on full unbinned LC , 1000 bootstraps"
   ]
  },
  {
   "cell_type": "code",
   "execution_count": 2,
   "metadata": {
    "collapsed": false
   },
   "outputs": [
    {
     "data": {
      "text/plain": [
       "Index([u'objectId', u'N', u'avgMJD', u'chi2DOF', u'chi2R', u'flagLtTenPts',\n",
       "       u'muFull', u'psfFluxMean', u'psfFluxMeanErr', u'psfFluxMedian',\n",
       "       u'psfFluxMedianErr', u'psfFluxSigG', u'psfFluxSkew', u'psfFluxStDev',\n",
       "       u'rangeMJD', u'sigmaFull', u'psfMean', u'psfMedian', u'psfMeanErr',\n",
       "       u'psfMedianErr'],\n",
       "      dtype='object')"
      ]
     },
     "execution_count": 2,
     "metadata": {},
     "output_type": "execute_result"
    }
   ],
   "source": [
    "\n",
    "Dir =  '/astro/store/scratch/tmp/suberlak/s13_stripe82/forced_phot_lt_23/NCSA/Var/'\n",
    "File = 'Varg00_21_1000_bootstraps.csv'\n",
    "varMetricsFull = pd.read_csv(Dir+File)\n",
    "\n",
    "varMetricsFull.columns"
   ]
  },
  {
   "cell_type": "code",
   "execution_count": 3,
   "metadata": {
    "collapsed": false
   },
   "outputs": [
    {
     "data": {
      "text/plain": [
       "1030"
      ]
     },
     "execution_count": 3,
     "metadata": {},
     "output_type": "execute_result"
    }
   ],
   "source": [
    "np.sum(varMetricsFull['N'].values < 55 )"
   ]
  },
  {
   "cell_type": "code",
   "execution_count": 4,
   "metadata": {
    "collapsed": false
   },
   "outputs": [
    {
     "data": {
      "text/plain": [
       "<matplotlib.text.Text at 0x7fc786ee0250>"
      ]
     },
     "execution_count": 4,
     "metadata": {},
     "output_type": "execute_result"
    },
    {
     "data": {
      "image/png": "[encoded data removed]",
      "text/plain": [
       "<matplotlib.figure.Figure at 0x7fc783264a90>"
      ]
     },
     "metadata": {},
     "output_type": "display_data"
    }
   ],
   "source": [
    "%matplotlib inline\n",
    "xMin = 55\n",
    "m = varMetricsFull['N'] > xMin\n",
    "plt.hist(varMetricsFull['N'][m], bins=100)\n",
    "plt.title('N> %d for %d of %d in g00_21.csv'%(xMin, np.sum(m),len(m) ))\n",
    "plt.xlim(60,170)\n",
    "plt.xlabel('N')\n",
    "#plt.savefig('Varg00_21_1000_bootstraps_hist_N.png')"
   ]
  },
  {
   "cell_type": "code",
   "execution_count": 5,
   "metadata": {
    "collapsed": true
   },
   "outputs": [],
   "source": [
    "hist, bin_edges = np.histogram(varMetricsFull['N'][varMetricsFull['N'].values> 55].values, bins=np.arange(56,163), density=False)\n",
    "bin_cen = (bin_edges[:-1] + bin_edges[1:])/2\n",
    "\n"
   ]
  },
  {
   "cell_type": "code",
   "execution_count": 6,
   "metadata": {
    "collapsed": false
   },
   "outputs": [
    {
     "data": {
      "text/plain": [
       "489320"
      ]
     },
     "execution_count": 6,
     "metadata": {},
     "output_type": "execute_result"
    }
   ],
   "source": [
    "len(varMetricsFull['N'][varMetricsFull['N'].values> 55].values)"
   ]
  },
  {
   "cell_type": "code",
   "execution_count": 8,
   "metadata": {
    "collapsed": false
   },
   "outputs": [
    {
     "name": "stdout",
     "output_type": "stream",
     "text": [
      "For 1000 bootstraps it took 23.33 hours\n",
      "For 10000 bootstraps it took 26.26 hours\n"
     ]
    }
   ],
   "source": [
    "# time_hist is in miliseconds \n",
    "N = [72,144]\n",
    "time = [9.02, 15.9]  \n",
    "p = np.polyfit(N,time,deg=1)\n",
    "time_hist = p[0] + p[1] * bin_cen\n",
    "ttl_time = np.sum(hist*time_hist) / (1000 * 60 * 60 )\n",
    "print('For 1000 bootstraps it took %.2f hours' % ttl_time)\n",
    "# thus I get that it roughly took  22.85 hours with  N = 1000 bootstraps.... \n",
    "\n",
    "N = [72,144]\n",
    "time = [62.2, 122]\n",
    "p = np.polyfit(N,time,deg=1)\n",
    "time_hist = p[0] + p[1] * bin_cen\n",
    "ttl_time = np.sum(hist*time_hist) / (1000 * 60 * 60 )\n",
    "print('For 10000 bootstraps it took %.2f hours' % ttl_time)"
   ]
  },
  {
   "cell_type": "code",
   "execution_count": 9,
   "metadata": {
    "collapsed": false
   },
   "outputs": [
    {
     "data": {
      "text/plain": [
       "[<matplotlib.lines.Line2D at 0x7f5dd3b1c9d0>]"
      ]
     },
     "execution_count": 9,
     "metadata": {},
     "output_type": "execute_result"
    },
    {
     "data": {
      "image/png": "[encoded data removed]",
      "text/plain": [
       "<matplotlib.figure.Figure at 0x7f5dd4927210>"
      ]
     },
     "metadata": {},
     "output_type": "display_data"
    }
   ],
   "source": [
    "# N pts per lightcurve and time of calculation for N=1000 bootstraps\n",
    "N = [72,144]\n",
    "time = [9.02, 15.9]\n",
    "p = np.polyfit(N,time,deg=1)\n",
    "time_hist = p[0] + p[1] * bin_cen\n",
    "fig,ax = plt.subplots()\n",
    "#ax.plot(bin_cen, time_hist, color = 'blue', ls='steps', lw=2)\n",
    "ax.plot(bin_cen, hist*time_hist, color='red', ls='steps', lw=2)"
   ]
  },
  {
   "cell_type": "code",
   "execution_count": null,
   "metadata": {
    "collapsed": true
   },
   "outputs": [],
   "source": []
  },
  {
   "cell_type": "code",
   "execution_count": 10,
   "metadata": {
    "collapsed": false
   },
   "outputs": [
    {
     "data": {
      "image/png": "[encoded data removed]",
      "text/plain": [
       "<matplotlib.figure.Figure at 0x7f5dd2a27ed0>"
      ]
     },
     "metadata": {},
     "output_type": "display_data"
    }
   ],
   "source": [
    "%matplotlib inline\n",
    "# Plot some results : full LC : \n",
    "fig, ax = plt.subplots()\n",
    "xMin = 55\n",
    "m4 = varMetricsFull['N'].values  > xMin\n",
    "lim = 10\n",
    "m1=varMetricsFull[m4]['chi2R'].values<lim\n",
    "m2=varMetricsFull[m4]['chi2DOF'].values<lim\n",
    "m= m1*m2  # logical and \n",
    "\n",
    "H, xedges, yedges = np.histogram2d(varMetricsFull[m4]['chi2R'].values[m],varMetricsFull[m4]['chi2DOF'].values[m], bins=50)\n",
    "H = np.rot90(H)\n",
    "H = np.flipud(H)\n",
    "# Mask zeros\n",
    "Hmasked = np.ma.masked_where(H==0,H) # Mask pixels with a value of zeropltssssss\n",
    "# Plot 2D histogram using pcolor\n",
    "ax.pcolormesh(xedges,yedges,np.log10(Hmasked), cmap='jet')\n",
    "ax.plot(np.linspace(0,4), np.linspace(0,4), ls='--', lw=4)\n",
    "ax.set_xlabel(r'$\\chi^{2}_{R}$', fontsize=15)\n",
    "ax.set_ylabel(r'$\\chi^{2}_{DOF}$', fontsize=15)\n",
    "ax.set_title('Unbinned lightcurve, N>%d'%xMin)\n",
    "#ax.set_xlim(0,lim)\n",
    "#ax.set_ylim(0,lim)\n",
    "ax.tick_params(axis='both', which='major', labelsize=15) \n",
    "plt.tight_layout()\n",
    "plt.savefig('Varg00_21_1000_bootstraps_Chi2R_vs_Chi2DOF_yMax_10.png')"
   ]
  },
  {
   "cell_type": "code",
   "execution_count": 11,
   "metadata": {
    "collapsed": false
   },
   "outputs": [
    {
     "data": {
      "image/png": "[encoded data removed]",
      "text/plain": [
       "<matplotlib.figure.Figure at 0x7f5dd29455d0>"
      ]
     },
     "metadata": {},
     "output_type": "display_data"
    }
   ],
   "source": [
    "%matplotlib inline \n",
    "\n",
    "fig,ax = plt.subplots(1,1 , figsize=(6,6))\n",
    "\n",
    "nbins=100\n",
    "\n",
    "nMin = 55\n",
    "m4 = varMetricsFull['N'].values  > nMin\n",
    "\n",
    "chi2Rlim = 5\n",
    "m=varMetricsFull[m4]['chi2R'].values< chi2Rlim\n",
    "hist, bin_edges = np.histogram(varMetricsFull[m4]['chi2R'].values[m], bins=nbins, density=False)\n",
    "bin_cen = (bin_edges[:-1] + bin_edges[1:])/2\n",
    "ax.plot(bin_cen, hist, color = 'red', ls='steps', lw=2, label=r'$\\chi^{2}_{R}$')\n",
    "#ax.legend(fontsize=12)\n",
    "ax.tick_params(axis='both', which='major', labelsize=12)\n",
    "\n",
    "\n",
    "chi2DOFlim = 5\n",
    "m=varMetricsFull[m4]['chi2DOF'].values<chi2DOFlim\n",
    "hist, bin_edges = np.histogram(varMetricsFull[m4]['chi2DOF'].values[m], bins=nbins, density=False)\n",
    "bin_cen = (bin_edges[:-1] + bin_edges[1:])/2\n",
    "ax.plot(bin_cen, hist, color = 'blue', ls='steps', lw=2, label=r'$\\chi^{2}_{DOF}$')\n",
    "ax.legend(fontsize=14)\n",
    "ax.tick_params(axis='both', which='major', labelsize=12)\n",
    "ax.set_xlabel(r'$\\chi^{2}$', fontsize=15)\n",
    "plt.tight_layout()\n",
    "#fig.subplots_adjust(wspace=0.36, hspace=0.26, left=0.12, right=0.94, bottom=0.10, top=0.95)\n",
    "plt.savefig('Varg00_21_1000_bootstraps_Chi2R_vs_Chi2DOF_hist.png')"
   ]
  },
  {
   "cell_type": "code",
   "execution_count": 13,
   "metadata": {
    "collapsed": false
   },
   "outputs": [
    {
     "name": "stdout",
     "output_type": "stream",
     "text": [
      "N> 55 for 489320 of 490369 in g00_21.csv\n"
     ]
    }
   ],
   "source": [
    "nMin = 55\n",
    "m4 = varMetricsFull['N'].values  > nMin\n",
    "np.sum(varMetricsFull['sigmaFull'][m4] > 100)\n",
    "print('N> %d for %d of %d in g00_21.csv'%(nMin, np.sum(m4),len(m4) ))"
   ]
  },
  {
   "cell_type": "code",
   "execution_count": 12,
   "metadata": {
    "collapsed": false
   },
   "outputs": [
    {
     "name": "stderr",
     "output_type": "stream",
     "text": [
      "/astro/apps6/anaconda2.0/lib/python2.7/site-packages/pandas/computation/expressions.py:181: UserWarning: evaluating in Python space because the '*' operator is not supported by numexpr for the bool dtype, use '&' instead\n",
      "  unsupported[op_str]))\n"
     ]
    },
    {
     "name": "stdout",
     "output_type": "stream",
     "text": [
      " 0 < sigmaFull < 1 for 210376 of 489320 in N>55 objects in g00_21.csv\n"
     ]
    }
   ],
   "source": [
    "nMin = 55\n",
    "m4 = varMetricsFull['N'].values  > nMin\n",
    "\n",
    "sigMax = 1\n",
    "\n",
    "ma = 0<varMetricsFull[m4]['sigmaFull']\n",
    "mb = varMetricsFull[m4]['sigmaFull']<sigMax\n",
    "m1 = ma*mb\n",
    "varMetricsSig  = varMetricsFull[m4][m1]\n",
    "print(' 0 < sigmaFull < %d for %d of %d in N>55 objects in g00_21.csv'%(sigMax, np.sum(m1),len(m1) ))"
   ]
  },
  {
   "cell_type": "code",
   "execution_count": 14,
   "metadata": {
    "collapsed": false
   },
   "outputs": [
    {
     "data": {
      "text/plain": [
       "278305"
      ]
     },
     "execution_count": 14,
     "metadata": {},
     "output_type": "execute_result"
    }
   ],
   "source": [
    "np.sum(varMetricsFull[m4]['sigmaFull']==0 )"
   ]
  },
  {
   "cell_type": "code",
   "execution_count": 15,
   "metadata": {
    "collapsed": false
   },
   "outputs": [
    {
     "data": {
      "image/png": "[encoded data removed]",
      "text/plain": [
       "<matplotlib.figure.Figure at 0x7f5dd3b1cfd0>"
      ]
     },
     "metadata": {},
     "output_type": "display_data"
    }
   ],
   "source": [
    "%matplotlib inline \n",
    "fig,ax = plt.subplots(1,1, figsize=(6,6))\n",
    "ax.hist(np.log10(varMetricsSig['sigmaFull']), bins=100)\n",
    "ax.set_ylabel(r'$N$',fontsize=15)\n",
    "ax.set_xlabel(r'$log_{10}(\\sigma_{Full})$', fontsize=15)\n",
    "ax.set_title(r'0 < sigma < %d  for %d / %d obj in g00_21.csv ' %(sigMax, np.sum(m1),len(m1)), fontsize=12)\n",
    "plt.tight_layout()\n",
    "\n",
    "plt.savefig('Varg00_21_1000_bootstraps_sigma.png')"
   ]
  },
  {
   "cell_type": "code",
   "execution_count": 16,
   "metadata": {
    "collapsed": false
   },
   "outputs": [
    {
     "data": {
      "text/plain": [
       "210376"
      ]
     },
     "execution_count": 16,
     "metadata": {},
     "output_type": "execute_result"
    }
   ],
   "source": [
    "len(varMetricsSig['muFull'])"
   ]
  },
  {
   "cell_type": "code",
   "execution_count": 17,
   "metadata": {
    "collapsed": false
   },
   "outputs": [
    {
     "data": {
      "text/plain": [
       "0.99840272222499993"
      ]
     },
     "execution_count": 17,
     "metadata": {},
     "output_type": "execute_result"
    }
   ],
   "source": [
    "max(varMetricsSig['sigmaFull'])"
   ]
  },
  {
   "cell_type": "code",
   "execution_count": 18,
   "metadata": {
    "collapsed": false
   },
   "outputs": [
    {
     "data": {
      "image/png": "[encoded data removed]",
      "text/plain": [
       "<matplotlib.figure.Figure at 0x7f5dd2973850>"
      ]
     },
     "metadata": {},
     "output_type": "display_data"
    }
   ],
   "source": [
    "%matplotlib inline \n",
    "fig,ax = plt.subplots(1,1, figsize=(6,6))\n",
    "ax.hist(np.log10(np.array(varMetricsSig['muFull'].values).astype(float)), bins=100)\n",
    "ax.set_title(r'0 < sigma < %d  for %d / %d obj in g00_21.csv ' %(sigMax, np.sum(m1),len(m1)), fontsize=12)\n",
    "ax.set_ylabel(r'$N$',fontsize=15)\n",
    "ax.set_xlabel(r'$log_{10}(\\mu_{Full})$', fontsize=15)\n",
    "plt.savefig('Varg00_21_1000_bootstraps_mu.png')"
   ]
  },
  {
   "cell_type": "code",
   "execution_count": 19,
   "metadata": {
    "collapsed": false
   },
   "outputs": [
    {
     "name": "stdout",
     "output_type": "stream",
     "text": [
      "Out of 490369 objects,:\n",
      "\n",
      "428295 fulfill  sigma>0 OR chi2R>1 OR chi2DOF>1\n",
      "Also, 235462 fulfill chi2R>1+3*sqrt(2/n) OR chi2DOF>1+3*sqrt(2/n) \n",
      "Also, 296312 fulfill sigma > 0 OR  chi2R>1+3*sqrt(2/n) OR chi2DOF>1+3*sqrt(2/n) \n",
      "Also, 151035 fulfill sigma > 0 AND [ chi2R>1+3*sqrt(2/n) OR chi2DOF>1+3*sqrt(2/n) ]\n"
     ]
    }
   ],
   "source": [
    "# Select variable candidates  \n",
    "\n",
    "m1 = (varMetricsFull['sigmaFull'] > 0).values  # 234883\n",
    "m2 =  (varMetricsFull['chi2DOF'] > 1).values   # 346886\n",
    "m3 = (varMetricsFull['chi2R'] > 1).values      # 172602\n",
    "m= np.ma.mask_or(m3, np.ma.mask_or(m1,m2))\n",
    "print('Out of %d objects,:\\n'%len(m)) \n",
    "print('%d fulfill  sigma>0 OR chi2R>1 OR chi2DOF>1' % ( np.sum(m)))\n",
    "\n",
    "# The  '3 sigma' definition (more strict) ...\n",
    "N = varMetricsFull['N'] #  number of pts per lightcurve \n",
    "m4 = varMetricsFull['chi2DOF'] > (1 + 3.0 * np.sqrt(2 / N )) ##  170517\n",
    "m5 = varMetricsFull['chi2R'] > (1 + 3.0 * np.sqrt(2 / N))   ## 37464\n",
    "# one or the other   170534\n",
    "print('Also, %d fulfill chi2R>1+3*sqrt(2/n) OR chi2DOF>1+3*sqrt(2/n) ' % (np.sum(m4|m5)))\n",
    "print('Also, %d fulfill sigma > 0 OR  chi2R>1+3*sqrt(2/n) OR chi2DOF>1+3*sqrt(2/n) ' % (np.sum(m1|m4|m5)))\n",
    " # 265981   sigma OR  chi2R  OR chi2DOF \n",
    "print('Also, %d fulfill sigma > 0 AND [ chi2R>1+3*sqrt(2/n) OR chi2DOF>1+3*sqrt(2/n) ]' % (np.sum(m1*(m4|m5))))\n",
    "#\n",
    "\n",
    "m = m1*(m4|m5)\n",
    "# Grab only those rows that correspond to variable objects...\n",
    "\n",
    "varMetricsVarOnly = varMetricsFull[m]"
   ]
  },
  {
   "cell_type": "code",
   "execution_count": 20,
   "metadata": {
    "collapsed": false
   },
   "outputs": [
    {
     "data": {
      "image/png": "[encoded data removed]",
      "text/plain": [
       "<matplotlib.figure.Figure at 0x7f5dd2973ed0>"
      ]
     },
     "metadata": {},
     "output_type": "display_data"
    }
   ],
   "source": [
    "%matplotlib inline\n",
    "# Plot some results : full LC : \n",
    "fig, ax = plt.subplots()\n",
    "xMin = 55\n",
    "m4 = varMetricsVarOnly['N'].values  > xMin\n",
    "lim = 10\n",
    "m1=varMetricsVarOnly[m4]['chi2R'].values<lim\n",
    "m2=varMetricsVarOnly[m4]['chi2DOF'].values<lim\n",
    "m= m1*m2  # logical and \n",
    "\n",
    "H, xedges, yedges = np.histogram2d(varMetricsVarOnly[m4]['chi2R'].values[m],varMetricsVarOnly[m4]['chi2DOF'].values[m], bins=50)\n",
    "H = np.rot90(H)\n",
    "H = np.flipud(H)\n",
    "# Mask zeros\n",
    "Hmasked = np.ma.masked_where(H==0,H) # Mask pixels with a value of zeropltssssss\n",
    "# Plot 2D histogram using pcolor\n",
    "ax.pcolormesh(xedges,yedges,np.log10(Hmasked), cmap='jet')\n",
    "ax.plot(np.linspace(0,4), np.linspace(0,4), ls='--', lw=4)\n",
    "ax.set_xlabel(r'$\\chi^{2}_{R}$', fontsize=15)\n",
    "ax.set_ylabel(r'$\\chi^{2}_{DOF}$', fontsize=15)\n",
    "ax.set_title('Unbinned lightcurve, N>%d, g00_21'%xMin)\n",
    "#ax.set_xlim(0,lim)\n",
    "#ax.set_ylim(0,lim)\n",
    "ax.tick_params(axis='both', which='major', labelsize=15) \n",
    "plt.tight_layout()\n",
    "plt.savefig('Varg00_21_10000_bootstraps_Chi2R_vs_Chi2DOF_yMax_10_VarOnly.png')"
   ]
  },
  {
   "cell_type": "code",
   "execution_count": 21,
   "metadata": {
    "collapsed": true
   },
   "outputs": [],
   "source": [
    "# Compare sigma with 10000 bootstraps compared to 1000 bootstraps  \n",
    "DirIn  = '/astro/store/scratch/tmp/suberlak/s13_stripe82/forced_phot_lt_23/NCSA/Var/'\n",
    "name ='Varg00_21_10000_bootstraps.csv'\n",
    "varMetrics1e4 = pd.read_csv(DirIn+name)\n",
    "name ='Varg00_21_1000_bootstraps.csv'\n",
    "varMetrics1e3 = pd.read_csv(DirIn+name)\n",
    "\n"
   ]
  },
  {
   "cell_type": "code",
   "execution_count": 22,
   "metadata": {
    "collapsed": true
   },
   "outputs": [],
   "source": [
    "varMetricsJoin =  pd.merge(varMetrics1e3, varMetrics1e4, how='left', on='objectId',left_index=False, right_index=False, sort=True,\n",
    "      suffixes=('_x', '_y'), copy=True)\n"
   ]
  },
  {
   "cell_type": "code",
   "execution_count": 23,
   "metadata": {
    "collapsed": false
   },
   "outputs": [
    {
     "data": {
      "text/html": [
       "<div>\n",
       "<table border=\"1\" class=\"dataframe\">\n",
       "  <thead>\n",
       "    <tr style=\"text-align: right;\">\n",
       "      <th></th>\n",
       "      <th>sigmaFull_x</th>\n",
       "      <th>sigmaFull_y</th>\n",
       "    </tr>\n",
       "  </thead>\n",
       "  <tbody>\n",
       "    <tr>\n",
       "      <th>0</th>\n",
       "      <td>0.003416</td>\n",
       "      <td>0.003590</td>\n",
       "    </tr>\n",
       "    <tr>\n",
       "      <th>1</th>\n",
       "      <td>0.003350</td>\n",
       "      <td>0.003318</td>\n",
       "    </tr>\n",
       "    <tr>\n",
       "      <th>2</th>\n",
       "      <td>0.000000</td>\n",
       "      <td>0.000000</td>\n",
       "    </tr>\n",
       "    <tr>\n",
       "      <th>3</th>\n",
       "      <td>0.003079</td>\n",
       "      <td>0.003449</td>\n",
       "    </tr>\n",
       "    <tr>\n",
       "      <th>4</th>\n",
       "      <td>0.004473</td>\n",
       "      <td>0.004695</td>\n",
       "    </tr>\n",
       "  </tbody>\n",
       "</table>\n",
       "</div>"
      ],
      "text/plain": [
       "   sigmaFull_x  sigmaFull_y\n",
       "0     0.003416     0.003590\n",
       "1     0.003350     0.003318\n",
       "2     0.000000     0.000000\n",
       "3     0.003079     0.003449\n",
       "4     0.004473     0.004695"
      ]
     },
     "execution_count": 23,
     "metadata": {},
     "output_type": "execute_result"
    }
   ],
   "source": [
    "varMetricsJoin[['sigmaFull_x','sigmaFull_y' ]].head()"
   ]
  },
  {
   "cell_type": "code",
   "execution_count": 24,
   "metadata": {
    "collapsed": true
   },
   "outputs": [],
   "source": [
    "xMin = 55\n",
    "m = varMetricsJoin['N_x'].values  > xMin\n",
    "m1=varMetricsJoin[m]['sigmaFull_x'].values>0\n",
    "#m2=varMetricsJoin[m]['sigmaFull_y'].values>0\n",
    "m3=varMetricsJoin[m]['sigmaFull_x'].values<1\n",
    "#m4=varMetricsJoin[m]['sigmaFull_y'].values<1 \n",
    "msk =m1*m3\n",
    "\n",
    "\n",
    "varMetricsPlot = varMetricsJoin[m][msk]"
   ]
  },
  {
   "cell_type": "code",
   "execution_count": 25,
   "metadata": {
    "collapsed": false
   },
   "outputs": [
    {
     "data": {
      "image/png": "[encoded data removed]",
      "text/plain": [
       "<matplotlib.figure.Figure at 0x7f5dd2507b90>"
      ]
     },
     "metadata": {},
     "output_type": "display_data"
    }
   ],
   "source": [
    "%matplotlib inline\n",
    "# Plot some results : full LC : \n",
    "fig, ax = plt.subplots()\n",
    "\n",
    "H, xedges, yedges = np.histogram2d(varMetricsPlot['sigmaFull_x'].values,varMetricsPlot['sigmaFull_y'].values, bins=50)\n",
    "H = np.rot90(H)\n",
    "H = np.flipud(H)\n",
    "# Mask zeros\n",
    "Hmasked = np.ma.masked_where(H==0,H) # Mask pixels with a value of zeropltssssss\n",
    "# Plot 2D histogram using pcolor\n",
    "ax.pcolormesh(xedges,yedges,np.log10(Hmasked), cmap='jet')\n",
    "ax.plot(np.linspace(0,1.5), np.linspace(0,1.5), ls='--', lw=4)\n",
    "ax.set_xlabel(r'$\\sigma_{Full, 1000}$', fontsize=15)\n",
    "ax.set_ylabel(r'$\\sigma_{Full, 10000}$', fontsize=15)\n",
    "ax.set_title('Unbinned lightcurve, N>%d, sigmaFull 1000 < 1'%xMin)\n",
    "ax.set_xlim(0,1)\n",
    "#ax.set_ylim(0,lim)\n",
    "ax.tick_params(axis='both', which='major', labelsize=15) \n",
    "plt.tight_layout()\n",
    "plt.savefig('Varg00_21_bootstraps_compare_sigma.png')"
   ]
  },
  {
   "cell_type": "code",
   "execution_count": 26,
   "metadata": {
    "collapsed": true
   },
   "outputs": [],
   "source": [
    "x = np.abs(varMetricsPlot['sigmaFull_x'].values - varMetricsPlot['sigmaFull_y'].values) / varMetricsPlot['sigmaFull_x'].values"
   ]
  },
  {
   "cell_type": "code",
   "execution_count": 29,
   "metadata": {
    "collapsed": false
   },
   "outputs": [
    {
     "data": {
      "text/plain": [
       "(array([  1.22608000e+05,   2.22600000e+04,   1.27300000e+04,\n",
       "          8.86000000e+03,   6.72800000e+03,   5.19100000e+03,\n",
       "          4.10300000e+03,   3.22200000e+03,   2.71000000e+03,\n",
       "          2.28300000e+03,   1.87000000e+03,   1.53600000e+03,\n",
       "          1.35600000e+03,   1.17200000e+03,   1.03300000e+03,\n",
       "          9.02000000e+02,   8.34000000e+02,   7.26000000e+02,\n",
       "          6.49000000e+02,   5.72000000e+02,   5.06000000e+02,\n",
       "          4.68000000e+02,   4.03000000e+02,   3.86000000e+02,\n",
       "          3.52000000e+02,   5.05000000e+02,   3.30000000e+02,\n",
       "          2.94000000e+02,   2.35000000e+02,   2.37000000e+02,\n",
       "          2.24000000e+02,   2.39000000e+02,   2.08000000e+02,\n",
       "          2.08000000e+02,   1.56000000e+02,   1.37000000e+02,\n",
       "          1.53000000e+02,   1.27000000e+02,   1.56000000e+02,\n",
       "          1.33000000e+02,   1.28000000e+02,   1.12000000e+02,\n",
       "          1.16000000e+02,   1.17000000e+02,   9.00000000e+01,\n",
       "          9.00000000e+01,   9.10000000e+01,   7.10000000e+01,\n",
       "          6.10000000e+01,   6.80000000e+01]),\n",
       " array([  4.36571597e-07,   3.99940374e-02,   7.99876383e-02,\n",
       "          1.19981239e-01,   1.59974840e-01,   1.99968441e-01,\n",
       "          2.39962042e-01,   2.79955642e-01,   3.19949243e-01,\n",
       "          3.59942844e-01,   3.99936445e-01,   4.39930046e-01,\n",
       "          4.79923647e-01,   5.19917248e-01,   5.59910848e-01,\n",
       "          5.99904449e-01,   6.39898050e-01,   6.79891651e-01,\n",
       "          7.19885252e-01,   7.59878853e-01,   7.99872453e-01,\n",
       "          8.39866054e-01,   8.79859655e-01,   9.19853256e-01,\n",
       "          9.59846857e-01,   9.99840458e-01,   1.03983406e+00,\n",
       "          1.07982766e+00,   1.11982126e+00,   1.15981486e+00,\n",
       "          1.19980846e+00,   1.23980206e+00,   1.27979566e+00,\n",
       "          1.31978926e+00,   1.35978287e+00,   1.39977647e+00,\n",
       "          1.43977007e+00,   1.47976367e+00,   1.51975727e+00,\n",
       "          1.55975087e+00,   1.59974447e+00,   1.63973807e+00,\n",
       "          1.67973167e+00,   1.71972527e+00,   1.75971887e+00,\n",
       "          1.79971247e+00,   1.83970608e+00,   1.87969968e+00,\n",
       "          1.91969328e+00,   1.95968688e+00,   1.99968048e+00]),\n",
       " <a list of 50 Patch objects>)"
      ]
     },
     "execution_count": 29,
     "metadata": {},
     "output_type": "execute_result"
    },
    {
     "data": {
      "image/png": "[encoded data removed]",
      "text/plain": [
       "<matplotlib.figure.Figure at 0x7f5dc4ed3fd0>"
      ]
     },
     "metadata": {},
     "output_type": "display_data"
    }
   ],
   "source": [
    "%matplotlib inline \n",
    "fig,ax = plt.subplots()\n",
    "ax.hist(x[x<2], bins=50)"
   ]
  },
  {
   "cell_type": "code",
   "execution_count": 30,
   "metadata": {
    "collapsed": true
   },
   "outputs": [],
   "source": [
    "y = np.log10(varMetricsPlot['sigmaFull_x'].values / varMetricsPlot['sigmaFull_y'].values)"
   ]
  },
  {
   "cell_type": "markdown",
   "metadata": {},
   "source": [
    "## varMetricsSeasonal : metrics for Seasons for full LC on g00_21.csv "
   ]
  },
  {
   "cell_type": "code",
   "execution_count": 31,
   "metadata": {
    "collapsed": true
   },
   "outputs": [],
   "source": [
    "#  only for variable objects \n",
    "#     ( here : N=1000 bootstraps,  used strict variability definition \n",
    "#     m1*(m4 | m5), where  m1 = (varMetricsFull['sigmaFull'] > 0)\n",
    "#      m4 = varMetricsFull['chi2DOF'] > (1 + 3.0 * np.sqrt(2 / N )) ##  170517\n",
    "# m5 = varMetricsFull['chi2R'] > (1 + 3.0 * np.sqrt(2 / N))   )"
   ]
  },
  {
   "cell_type": "code",
   "execution_count": 32,
   "metadata": {
    "collapsed": true
   },
   "outputs": [],
   "source": [
    "DirIn  = '/astro/store/scratch/tmp/suberlak/s13_stripe82/forced_phot_lt_23/NCSA/Var/'\n",
    "name = 'SeasVarg00_21_1000_bootstraps.csv'\n",
    "varMetricsSeasonal= pd.read_csv(DirIn+name)"
   ]
  },
  {
   "cell_type": "code",
   "execution_count": 33,
   "metadata": {
    "collapsed": false
   },
   "outputs": [
    {
     "data": {
      "text/html": [
       "<div>\n",
       "<table border=\"1\" class=\"dataframe\">\n",
       "  <thead>\n",
       "    <tr style=\"text-align: right;\">\n",
       "      <th></th>\n",
       "      <th>objectId</th>\n",
       "      <th>season</th>\n",
       "      <th>N</th>\n",
       "      <th>avgMJD</th>\n",
       "      <th>chi2DOF</th>\n",
       "      <th>chi2R</th>\n",
       "      <th>flagLtTenPts</th>\n",
       "      <th>muFull</th>\n",
       "      <th>psfFluxMean</th>\n",
       "      <th>psfFluxMeanErr</th>\n",
       "      <th>psfFluxMedian</th>\n",
       "      <th>psfFluxMedianErr</th>\n",
       "      <th>psfFluxSigG</th>\n",
       "      <th>psfFluxSkew</th>\n",
       "      <th>psfFluxStDev</th>\n",
       "      <th>rangeMJD</th>\n",
       "      <th>sigmaFull</th>\n",
       "    </tr>\n",
       "  </thead>\n",
       "  <tbody>\n",
       "    <tr>\n",
       "      <th>0</th>\n",
       "      <td>216172782516437336</td>\n",
       "      <td>0.0</td>\n",
       "      <td>13.0</td>\n",
       "      <td>52767.700160</td>\n",
       "      <td>2.201456</td>\n",
       "      <td>1.888938</td>\n",
       "      <td>NaN</td>\n",
       "      <td>0.015001399093876018</td>\n",
       "      <td>1.430169e-29</td>\n",
       "      <td>1.013931e-30</td>\n",
       "      <td>1.481434e-29</td>\n",
       "      <td>1.270774e-30</td>\n",
       "      <td>7.801653e-30</td>\n",
       "      <td>0.0</td>\n",
       "      <td>5.168289e-30</td>\n",
       "      <td>1532.757866</td>\n",
       "      <td>0.003422</td>\n",
       "    </tr>\n",
       "    <tr>\n",
       "      <th>1</th>\n",
       "      <td>216172782516437336</td>\n",
       "      <td>1.0</td>\n",
       "      <td>21.0</td>\n",
       "      <td>53667.596293</td>\n",
       "      <td>1.657391</td>\n",
       "      <td>0.974494</td>\n",
       "      <td>NaN</td>\n",
       "      <td>0.01577785650303653</td>\n",
       "      <td>1.567939e-29</td>\n",
       "      <td>1.231513e-30</td>\n",
       "      <td>1.687467e-29</td>\n",
       "      <td>1.543473e-30</td>\n",
       "      <td>8.669612e-30</td>\n",
       "      <td>0.0</td>\n",
       "      <td>5.946312e-30</td>\n",
       "      <td>82.891143</td>\n",
       "      <td>0.001552</td>\n",
       "    </tr>\n",
       "    <tr>\n",
       "      <th>2</th>\n",
       "      <td>216172782516437336</td>\n",
       "      <td>2.0</td>\n",
       "      <td>23.0</td>\n",
       "      <td>54028.141095</td>\n",
       "      <td>2.629647</td>\n",
       "      <td>1.276034</td>\n",
       "      <td>NaN</td>\n",
       "      <td>0.015562815870718573</td>\n",
       "      <td>1.528438e-29</td>\n",
       "      <td>1.115401e-30</td>\n",
       "      <td>1.884968e-29</td>\n",
       "      <td>1.397948e-30</td>\n",
       "      <td>9.055049e-30</td>\n",
       "      <td>0.0</td>\n",
       "      <td>5.610564e-30</td>\n",
       "      <td>92.921374</td>\n",
       "      <td>0.002257</td>\n",
       "    </tr>\n",
       "    <tr>\n",
       "      <th>3</th>\n",
       "      <td>216172782516437336</td>\n",
       "      <td>3.0</td>\n",
       "      <td>15.0</td>\n",
       "      <td>54395.611967</td>\n",
       "      <td>2.414379</td>\n",
       "      <td>1.270620</td>\n",
       "      <td>NaN</td>\n",
       "      <td>0.014557636730170884</td>\n",
       "      <td>1.349460e-29</td>\n",
       "      <td>1.214454e-30</td>\n",
       "      <td>1.704120e-29</td>\n",
       "      <td>1.522092e-30</td>\n",
       "      <td>6.241453e-30</td>\n",
       "      <td>0.0</td>\n",
       "      <td>6.736747e-30</td>\n",
       "      <td>64.959241</td>\n",
       "      <td>0.004777</td>\n",
       "    </tr>\n",
       "    <tr>\n",
       "      <th>4</th>\n",
       "      <td>216172782516437339</td>\n",
       "      <td>0.0</td>\n",
       "      <td>14.0</td>\n",
       "      <td>52777.885227</td>\n",
       "      <td>1.263577</td>\n",
       "      <td>0.836415</td>\n",
       "      <td>NaN</td>\n",
       "      <td>0.044455034371950274</td>\n",
       "      <td>4.434739e-29</td>\n",
       "      <td>1.070287e-30</td>\n",
       "      <td>4.384218e-29</td>\n",
       "      <td>1.341406e-30</td>\n",
       "      <td>3.851477e-30</td>\n",
       "      <td>0.0</td>\n",
       "      <td>4.493279e-30</td>\n",
       "      <td>1532.757866</td>\n",
       "      <td>0.001935</td>\n",
       "    </tr>\n",
       "  </tbody>\n",
       "</table>\n",
       "</div>"
      ],
      "text/plain": [
       "             objectId  season     N        avgMJD   chi2DOF     chi2R  \\\n",
       "0  216172782516437336     0.0  13.0  52767.700160  2.201456  1.888938   \n",
       "1  216172782516437336     1.0  21.0  53667.596293  1.657391  0.974494   \n",
       "2  216172782516437336     2.0  23.0  54028.141095  2.629647  1.276034   \n",
       "3  216172782516437336     3.0  15.0  54395.611967  2.414379  1.270620   \n",
       "4  216172782516437339     0.0  14.0  52777.885227  1.263577  0.836415   \n",
       "\n",
       "   flagLtTenPts                muFull   psfFluxMean  psfFluxMeanErr  \\\n",
       "0           NaN  0.015001399093876018  1.430169e-29    1.013931e-30   \n",
       "1           NaN   0.01577785650303653  1.567939e-29    1.231513e-30   \n",
       "2           NaN  0.015562815870718573  1.528438e-29    1.115401e-30   \n",
       "3           NaN  0.014557636730170884  1.349460e-29    1.214454e-30   \n",
       "4           NaN  0.044455034371950274  4.434739e-29    1.070287e-30   \n",
       "\n",
       "   psfFluxMedian  psfFluxMedianErr   psfFluxSigG  psfFluxSkew  psfFluxStDev  \\\n",
       "0   1.481434e-29      1.270774e-30  7.801653e-30          0.0  5.168289e-30   \n",
       "1   1.687467e-29      1.543473e-30  8.669612e-30          0.0  5.946312e-30   \n",
       "2   1.884968e-29      1.397948e-30  9.055049e-30          0.0  5.610564e-30   \n",
       "3   1.704120e-29      1.522092e-30  6.241453e-30          0.0  6.736747e-30   \n",
       "4   4.384218e-29      1.341406e-30  3.851477e-30          0.0  4.493279e-30   \n",
       "\n",
       "      rangeMJD  sigmaFull  \n",
       "0  1532.757866   0.003422  \n",
       "1    82.891143   0.001552  \n",
       "2    92.921374   0.002257  \n",
       "3    64.959241   0.004777  \n",
       "4  1532.757866   0.001935  "
      ]
     },
     "execution_count": 33,
     "metadata": {},
     "output_type": "execute_result"
    }
   ],
   "source": [
    "varMetricsSeasonal.head()"
   ]
  },
  {
   "cell_type": "code",
   "execution_count": 34,
   "metadata": {
    "collapsed": true
   },
   "outputs": [],
   "source": [
    "m = varMetricsSeasonal['chi2DOF'] < 10\n"
   ]
  },
  {
   "cell_type": "code",
   "execution_count": 35,
   "metadata": {
    "collapsed": false
   },
   "outputs": [
    {
     "data": {
      "text/plain": [
       "(array([  7.22600000e+03,   1.69038000e+05,   2.40199000e+05,\n",
       "          8.65880000e+04,   2.55660000e+04,   9.75600000e+03,\n",
       "          3.68500000e+03,   1.15200000e+03,   2.14000000e+02,\n",
       "          2.20000000e+01]),\n",
       " array([ 0.01523308,  0.48526884,  0.9553046 ,  1.42534036,  1.89537612,\n",
       "         2.36541188,  2.83544764,  3.3054834 ,  3.77551916,  4.24555493,\n",
       "         4.71559069]),\n",
       " <a list of 10 Patch objects>)"
      ]
     },
     "execution_count": 35,
     "metadata": {},
     "output_type": "execute_result"
    },
    {
     "data": {
      "image/png": "[encoded data removed]",
      "text/plain": [
       "<matplotlib.figure.Figure at 0x7f5dc4f75bd0>"
      ]
     },
     "metadata": {},
     "output_type": "display_data"
    }
   ],
   "source": [
    "plt.hist(varMetricsSeasonal[m]['chi2R'].values)"
   ]
  },
  {
   "cell_type": "code",
   "execution_count": 36,
   "metadata": {
    "collapsed": false
   },
   "outputs": [
    {
     "data": {
      "image/png": "[encoded data removed]",
      "text/plain": [
       "<matplotlib.figure.Figure at 0x7f5dc5021310>"
      ]
     },
     "metadata": {},
     "output_type": "display_data"
    }
   ],
   "source": [
    "%matplotlib inline\n",
    "# Plot some results : full LC : \n",
    "fig, ax = plt.subplots()\n",
    "\n",
    "lim = 10\n",
    "m1=varMetricsSeasonal['chi2R'].values<lim\n",
    "m2=varMetricsSeasonal['chi2DOF'].values<lim\n",
    "m= m1*m2  # logical and \n",
    "\n",
    "H, xedges, yedges = np.histogram2d(varMetricsSeasonal['chi2R'].values[m],varMetricsSeasonal['chi2DOF'].values[m], bins=50)\n",
    "H = np.rot90(H)\n",
    "H = np.flipud(H)\n",
    "# Mask zeros\n",
    "Hmasked = np.ma.masked_where(H==0,H) # Mask pixels with a value of zeropltssssss\n",
    "# Plot 2D histogram using pcolor\n",
    "ax.pcolormesh(xedges,yedges,np.log10(Hmasked), cmap='jet')\n",
    "ax.plot(np.linspace(0,4), np.linspace(0,4), ls='--', lw=4)\n",
    "ax.set_xlabel(r'$\\chi^{2}_{R}$', fontsize=15)\n",
    "ax.set_ylabel(r'$\\chi^{2}_{DOF}$', fontsize=15)\n",
    "ax.set_title('Unbinned Seasons g00_21')\n",
    "#ax.set_xlim(0,lim)\n",
    "#ax.set_ylim(0,lim)\n",
    "ax.tick_params(axis='both', which='major', labelsize=15) \n",
    "plt.tight_layout()\n",
    "plt.savefig('SeasVarg00_21_1000_bootstraps_Chi2R_vs_Chi2DOF_yMax_10_VarOnly.png')"
   ]
  },
  {
   "cell_type": "markdown",
   "metadata": {},
   "source": [
    "## varMetricsFullSeasonal : metrics for seasonally binned lightcurves "
   ]
  },
  {
   "cell_type": "code",
   "execution_count": 37,
   "metadata": {
    "collapsed": true
   },
   "outputs": [],
   "source": [
    "DirIn  = '/astro/store/scratch/tmp/suberlak/s13_stripe82/forced_phot_lt_23/NCSA/Var/'\n",
    "name = 'FullSeasVarg00_21_1000_bootstraps.csv'\n",
    "varMetricsFullSeasonal= pd.read_csv(DirIn+name)"
   ]
  },
  {
   "cell_type": "code",
   "execution_count": 38,
   "metadata": {
    "collapsed": false
   },
   "outputs": [
    {
     "data": {
      "text/html": [
       "<div>\n",
       "<table border=\"1\" class=\"dataframe\">\n",
       "  <thead>\n",
       "    <tr style=\"text-align: right;\">\n",
       "      <th></th>\n",
       "      <th>objectId</th>\n",
       "      <th>Nseasons</th>\n",
       "      <th>chi2DOFmean</th>\n",
       "      <th>chi2DOFmedian</th>\n",
       "      <th>chi2Rmean</th>\n",
       "      <th>chi2Rmedian</th>\n",
       "      <th>muFull</th>\n",
       "      <th>psfFluxMeanErrMean</th>\n",
       "      <th>psfFluxMeanMean</th>\n",
       "      <th>sigmaFull</th>\n",
       "    </tr>\n",
       "  </thead>\n",
       "  <tbody>\n",
       "    <tr>\n",
       "      <th>0</th>\n",
       "      <td>216172782516437336</td>\n",
       "      <td>4.0</td>\n",
       "      <td>0.681644</td>\n",
       "      <td>1.548436</td>\n",
       "      <td>0.845969</td>\n",
       "      <td>0.623895</td>\n",
       "      <td>0.014666</td>\n",
       "      <td>1.143825e-30</td>\n",
       "      <td>1.469002e-29</td>\n",
       "      <td>0.000000</td>\n",
       "    </tr>\n",
       "    <tr>\n",
       "      <th>1</th>\n",
       "      <td>216172782516437339</td>\n",
       "      <td>4.0</td>\n",
       "      <td>1.031613</td>\n",
       "      <td>0.230616</td>\n",
       "      <td>0.784815</td>\n",
       "      <td>0.324736</td>\n",
       "      <td>0.043201</td>\n",
       "      <td>1.213863e-30</td>\n",
       "      <td>4.300576e-29</td>\n",
       "      <td>0.000000</td>\n",
       "    </tr>\n",
       "    <tr>\n",
       "      <th>2</th>\n",
       "      <td>216172782516437346</td>\n",
       "      <td>4.0</td>\n",
       "      <td>0.874691</td>\n",
       "      <td>2.897802</td>\n",
       "      <td>0.627589</td>\n",
       "      <td>1.867501</td>\n",
       "      <td>0.011479</td>\n",
       "      <td>1.110731e-30</td>\n",
       "      <td>1.160085e-29</td>\n",
       "      <td>0.000000</td>\n",
       "    </tr>\n",
       "    <tr>\n",
       "      <th>3</th>\n",
       "      <td>216172782516437358</td>\n",
       "      <td>4.0</td>\n",
       "      <td>3.360890</td>\n",
       "      <td>5.273573</td>\n",
       "      <td>1.328345</td>\n",
       "      <td>1.499660</td>\n",
       "      <td>0.014187</td>\n",
       "      <td>1.121437e-30</td>\n",
       "      <td>1.432032e-29</td>\n",
       "      <td>0.001347</td>\n",
       "    </tr>\n",
       "    <tr>\n",
       "      <th>4</th>\n",
       "      <td>216172782516437360</td>\n",
       "      <td>4.0</td>\n",
       "      <td>1.442797</td>\n",
       "      <td>4.016759</td>\n",
       "      <td>1.010807</td>\n",
       "      <td>1.686722</td>\n",
       "      <td>0.009765</td>\n",
       "      <td>1.108440e-30</td>\n",
       "      <td>9.915796e-30</td>\n",
       "      <td>0.000303</td>\n",
       "    </tr>\n",
       "  </tbody>\n",
       "</table>\n",
       "</div>"
      ],
      "text/plain": [
       "             objectId  Nseasons  chi2DOFmean  chi2DOFmedian  chi2Rmean  \\\n",
       "0  216172782516437336       4.0     0.681644       1.548436   0.845969   \n",
       "1  216172782516437339       4.0     1.031613       0.230616   0.784815   \n",
       "2  216172782516437346       4.0     0.874691       2.897802   0.627589   \n",
       "3  216172782516437358       4.0     3.360890       5.273573   1.328345   \n",
       "4  216172782516437360       4.0     1.442797       4.016759   1.010807   \n",
       "\n",
       "   chi2Rmedian    muFull  psfFluxMeanErrMean  psfFluxMeanMean  sigmaFull  \n",
       "0     0.623895  0.014666        1.143825e-30     1.469002e-29   0.000000  \n",
       "1     0.324736  0.043201        1.213863e-30     4.300576e-29   0.000000  \n",
       "2     1.867501  0.011479        1.110731e-30     1.160085e-29   0.000000  \n",
       "3     1.499660  0.014187        1.121437e-30     1.432032e-29   0.001347  \n",
       "4     1.686722  0.009765        1.108440e-30     9.915796e-30   0.000303  "
      ]
     },
     "execution_count": 38,
     "metadata": {},
     "output_type": "execute_result"
    }
   ],
   "source": [
    "varMetricsFullSeasonal.head()"
   ]
  },
  {
   "cell_type": "code",
   "execution_count": 39,
   "metadata": {
    "collapsed": false
   },
   "outputs": [
    {
     "data": {
      "image/png": "[encoded data removed]",
      "text/plain": [
       "<matplotlib.figure.Figure at 0x7f5dc0f21c50>"
      ]
     },
     "metadata": {},
     "output_type": "display_data"
    }
   ],
   "source": [
    "%matplotlib inline \n",
    "\n",
    "df = varMetricsFullSeasonal\n",
    "\n",
    "from astroML.plotting import scatter_contour\n",
    "#astroML.plotting.scatter_contour(x, y, levels=10, threshold=100, log_counts=False, histogram2d_args={}, plot_args={}, contour_args={}, ax=None)\n",
    "fig, ax = plt.subplots(1,2,figsize=(12,6))\n",
    "lim = 10\n",
    "\n",
    "m1=df['chi2Rmean'].values<lim\n",
    "m2=df['chi2Rmedian'].values<lim\n",
    "m=m1*m2\n",
    "#scatter_contour(seasonAvgChi2['chi2'].values[m], seasonAvgChi2['chi2R'].values[m] , threshold=200, \n",
    "#                log_counts=False, ax=ax)\n",
    "#maskCol = (ri < xlim[1])&(ri>xlim[0])&(gr<ylim[1])&(gr>ylim[0])\n",
    "nbins=100\n",
    "H, xedges, yedges = np.histogram2d(df['chi2Rmean'].values[m],df['chi2Rmedian'].values[m],bins=nbins)\n",
    "#H, xedges, yedges = np.histogram2d(grri_dropna[1],grri_dropna[0],bins=nbins)\n",
    "# H needs to be rotated and flipped\n",
    "H = np.rot90(H)\n",
    "H = np.flipud(H)\n",
    "# Mask zeros\n",
    "Hmasked = np.ma.masked_where(H==0,H) # Mask pixels with a value of zeropltssssss\n",
    "# Plot 2D histogram using pcolor\n",
    "ax[0].pcolormesh(xedges,yedges,np.log10(Hmasked), cmap='jet')\n",
    "ax[0].plot(np.linspace(0,lim), np.linspace(0,lim), ls='--', lw=4)\n",
    "ax[0].set_xlabel(r'$\\chi^{2}_{R,mean}$', fontsize=15)\n",
    "ax[0].set_ylabel(r'$\\chi^{2}_{R, median}$', fontsize=15)\n",
    "ax[0].set_xlim(0,lim)\n",
    "ax[0].set_ylim(0,lim)\n",
    "ax[0].tick_params(axis='both', which='major', labelsize=15)  \n",
    "\n",
    "lim = 10\n",
    "m1=df['chi2DOFmean'].values<lim\n",
    "m2=df['chi2DOFmedian'].values<lim\n",
    "m=m1*m2\n",
    "#scatter_contour(seasonAvgChi2['chi2'].values[m], seasonAvgChi2['chi2R'].values[m] , threshold=200, \n",
    "#                log_counts=False, ax=ax)\n",
    "#maskCol = (ri < xlim[1])&(ri>xlim[0])&(gr<ylim[1])&(gr>ylim[0])\n",
    "nbins=100\n",
    "H, xedges, yedges = np.histogram2d(df['chi2DOFmean'].values[m],df['chi2DOFmedian'].values[m],bins=nbins)\n",
    "#H, xedges, yedges = np.histogram2d(grri_dropna[1],grri_dropna[0],bins=nbins)\n",
    "# H needs to be rotated and flipped\n",
    "H = np.rot90(H)\n",
    "H = np.flipud(H)\n",
    "# Mask zeros\n",
    "Hmasked = np.ma.masked_where(H==0,H) # Mask pixels with a value of zeropltssssss\n",
    "# Plot 2D histogram using pcolor\n",
    "ax[1].pcolormesh(xedges,yedges,np.log10(Hmasked), cmap='jet')\n",
    "ax[1].plot(np.linspace(0,lim), np.linspace(0,lim), ls='--', lw=4)\n",
    "ax[1].set_xlabel(r'$\\chi^{2}_{DOF,mean}$', fontsize=15)\n",
    "ax[1].set_ylabel(r'$\\chi^{2}_{DOF, median}$', fontsize=15)\n",
    "ax[1].set_xlim(0,lim)\n",
    "ax[1].set_ylim(0,lim)\n",
    "ax[1].tick_params(axis='both', which='major', labelsize=15) \n",
    "fig.subplots_adjust( top=0.90)\n",
    "fig.suptitle('Seasonally Binned Lightcurves: g00_21', fontsize=15)\n",
    "\n",
    "#plt.tight_layout()\n",
    "plt.savefig('FullSeasVarg00_21_1000_bootstraps_Chi2R_vs_Chi2DOF.png')"
   ]
  },
  {
   "cell_type": "code",
   "execution_count": 43,
   "metadata": {
    "collapsed": false
   },
   "outputs": [
    {
     "data": {
      "text/plain": [
       "(100, 100)"
      ]
     },
     "execution_count": 43,
     "metadata": {},
     "output_type": "execute_result"
    }
   ],
   "source": [
    "np.shape(H)"
   ]
  },
  {
   "cell_type": "code",
   "execution_count": 44,
   "metadata": {
    "collapsed": false
   },
   "outputs": [
    {
     "data": {
      "text/plain": [
       "(101,)"
      ]
     },
     "execution_count": 44,
     "metadata": {},
     "output_type": "execute_result"
    }
   ],
   "source": [
    "np.shape(xedges)"
   ]
  },
  {
   "cell_type": "code",
   "execution_count": null,
   "metadata": {
    "collapsed": true
   },
   "outputs": [],
   "source": []
  },
  {
   "cell_type": "code",
   "execution_count": null,
   "metadata": {
    "collapsed": true
   },
   "outputs": [],
   "source": []
  },
  {
   "cell_type": "code",
   "execution_count": null,
   "metadata": {
    "collapsed": true
   },
   "outputs": [],
   "source": []
  },
  {
   "cell_type": "code",
   "execution_count": null,
   "metadata": {
    "collapsed": true
   },
   "outputs": [],
   "source": []
  },
  {
   "cell_type": "code",
   "execution_count": null,
   "metadata": {
    "collapsed": true
   },
   "outputs": [],
   "source": []
  },
  {
   "cell_type": "code",
   "execution_count": null,
   "metadata": {
    "collapsed": true
   },
   "outputs": [],
   "source": []
  }
 ],
 "metadata": {
  "kernelspec": {
   "display_name": "Python 2",
   "language": "python",
   "name": "python2"
  },
  "language_info": {
   "codemirror_mode": {
    "name": "ipython",
    "version": 2
   },
   "file_extension": ".py",
   "mimetype": "text/x-python",
   "name": "python",
   "nbconvert_exporter": "python",
   "pygments_lexer": "ipython2",
   "version": "2.7.11"
  }
 },
 "nbformat": 4,
 "nbformat_minor": 0
}
